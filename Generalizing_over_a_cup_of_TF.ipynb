{
  "nbformat": 4,
  "nbformat_minor": 0,
  "metadata": {
    "colab": {
      "name": "Generalizing over a cup of TF.ipynb",
      "provenance": [],
      "collapsed_sections": [],
      "authorship_tag": "ABX9TyOoh3cGJQ/7ft/sy4X8URke",
      "include_colab_link": true
    },
    "kernelspec": {
      "name": "python3",
      "display_name": "Python 3"
    }
  },
  "cells": [
    {
      "cell_type": "markdown",
      "metadata": {
        "id": "view-in-github",
        "colab_type": "text"
      },
      "source": [
        "<a href=\"https://colab.research.google.com/github/AmanPriyanshu/Discussing_Learning/blob/master/Generalizing_over_a_cup_of_TF.ipynb\" target=\"_parent\"><img src=\"https://colab.research.google.com/assets/colab-badge.svg\" alt=\"Open In Colab\"/></a>"
      ]
    },
    {
      "cell_type": "markdown",
      "metadata": {
        "id": "HkdzLq9b4WgM",
        "colab_type": "text"
      },
      "source": [
        "# GENERALIZATION:"
      ]
    },
    {
      "cell_type": "markdown",
      "metadata": {
        "id": "jf7k4ZCC4eKO",
        "colab_type": "text"
      },
      "source": [
        "## PROBLEM:\n",
        "### The most annoying thing to happen ever is:"
      ]
    },
    {
      "cell_type": "markdown",
      "metadata": {
        "id": "bAjnjPp2473H",
        "colab_type": "text"
      },
      "source": [
        "Imports"
      ]
    },
    {
      "cell_type": "code",
      "metadata": {
        "id": "go_xUz6q36kS",
        "colab_type": "code",
        "colab": {}
      },
      "source": [
        "import tensorflow as tf\n",
        "import numpy as np\n",
        "import pandas as pd\n",
        "from matplotlib import pyplot as plt\n",
        "from tqdm.keras import TqdmCallback\n",
        "from tqdm import trange\n",
        "from sklearn.cluster import KMeans \n",
        "from sklearn import metrics"
      ],
      "execution_count": 85,
      "outputs": []
    },
    {
      "cell_type": "markdown",
      "metadata": {
        "id": "fh5sgmWS5D23",
        "colab_type": "text"
      },
      "source": [
        "Creating a Mock Dataset:"
      ]
    },
    {
      "cell_type": "code",
      "metadata": {
        "id": "puF4vfyv49Vi",
        "colab_type": "code",
        "colab": {
          "base_uri": "https://localhost:8080/",
          "height": 265
        },
        "outputId": "8b3c77dc-6dab-4436-e657-08b31f031dd8"
      },
      "source": [
        "x = np.array([np.random.sample(5) for _ in range(100)] + [np.random.sample(5)+1 for _ in range(10)])\n",
        "y = np.array([0 for _ in range(100)] + [1 for _ in range(10)])\n",
        "\n",
        "x_image = np.array([np.mean(i) for i in x])\n",
        "\n",
        "plt.scatter(x_image, y)\n",
        "plt.show()"
      ],
      "execution_count": 14,
      "outputs": [
        {
          "output_type": "display_data",
          "data": {
            "image/png": "[encoded data removed]",
            "text/plain": [
              "<Figure size 432x288 with 1 Axes>"
            ]
          },
          "metadata": {
            "tags": [],
            "needs_background": "light"
          }
        }
      ]
    },
    {
      "cell_type": "markdown",
      "metadata": {
        "id": "cBEJnXLd6SEz",
        "colab_type": "text"
      },
      "source": [
        "Creating A simple Binary Classifier"
      ]
    },
    {
      "cell_type": "code",
      "metadata": {
        "id": "vy8IOBKu5mHE",
        "colab_type": "code",
        "colab": {
          "base_uri": "https://localhost:8080/",
          "height": 34
        },
        "outputId": "5e706aa7-6377-4341-8651-0082eea83f3e"
      },
      "source": [
        "model = tf.keras.models.Sequential([\n",
        "                                    tf.keras.layers.Dense(1, activation='sigmoid')\n",
        "])\n",
        "model.compile(optimizer='adam', loss='binary_crossentropy', metrics=['accuracy'])\n",
        "history = model.fit(x, y, epochs=200, verbose=0)\n",
        "loss, acc = model.evaluate(x, y, verbose=1)"
      ],
      "execution_count": 24,
      "outputs": [
        {
          "output_type": "stream",
          "text": [
            "4/4 [==============================] - 0s 2ms/step - loss: 0.4563 - accuracy: 0.9091\n"
          ],
          "name": "stdout"
        }
      ]
    },
    {
      "cell_type": "markdown",
      "metadata": {
        "id": "7hBedzyK76Yz",
        "colab_type": "text"
      },
      "source": [
        "An Accuracy of 90% is Very Good but its useless because 90% of the Dataset was labelled as 0. People who are more experienced with Datascience already have an idea of what is wrong with having a Biased Dataset"
      ]
    },
    {
      "cell_type": "code",
      "metadata": {
        "id": "MbcuH-uw65Rb",
        "colab_type": "code",
        "colab": {
          "base_uri": "https://localhost:8080/",
          "height": 50
        },
        "outputId": "03887312-059d-403b-b9e0-7cd8f90529cb"
      },
      "source": [
        "x_0 = np.array([np.random.sample(5)])\n",
        "pred_0 = model.predict(x_0)\n",
        "print('Prediction for:',x_0, 'Predicted Label:',0 if pred_0[0][0]<0.5 else 1)\n",
        "\n",
        "x_1 = np.array([np.random.sample(5)+1])\n",
        "pred_1 = model.predict(x_1)\n",
        "print('Prediction for:',x_1, 'Predicted Label:',0 if pred_1[0][0]<0.5 else 1)\n"
      ],
      "execution_count": 30,
      "outputs": [
        {
          "output_type": "stream",
          "text": [
            "Prediction for: [[0.59994939 0.43039392 0.14443391 0.20016838 0.96517142]] Predicted Label: 0\n",
            "Prediction for: [[1.31351942 1.06967306 1.26164081 1.00613529 1.30995652]] Predicted Label: 0\n"
          ],
          "name": "stdout"
        }
      ]
    },
    {
      "cell_type": "markdown",
      "metadata": {
        "id": "xyz0tY9t9_S8",
        "colab_type": "text"
      },
      "source": [
        "Label 0 see the interesting thing here is, if I summed all the labels predicted by the model on the training set I will get a biased result where all the predictions are 0. As you can see below"
      ]
    },
    {
      "cell_type": "code",
      "metadata": {
        "id": "zzXGEmZa8p4T",
        "colab_type": "code",
        "colab": {
          "base_uri": "https://localhost:8080/",
          "height": 34
        },
        "outputId": "a1ad5452-c1a2-423a-9e9f-187d3e4bb6e9"
      },
      "source": [
        "y_pred = model.predict(x)\n",
        "y_pred = y_pred.flatten()\n",
        "y_pred = [0 if i<0.5 else 1 for i in y_pred]\n",
        "print('Sum of All Predicted Labels:', sum(y_pred))"
      ],
      "execution_count": 32,
      "outputs": [
        {
          "output_type": "stream",
          "text": [
            "Sum of All Predicted Labels: 0\n"
          ],
          "name": "stdout"
        }
      ]
    },
    {
      "cell_type": "markdown",
      "metadata": {
        "id": "Pbd_9dhq-_5W",
        "colab_type": "text"
      },
      "source": [
        "Why does this happen for Supervised Learning, especially Logistic Regression, let's try to even out the dataset:"
      ]
    },
    {
      "cell_type": "code",
      "metadata": {
        "id": "8KrBF2da-ipJ",
        "colab_type": "code",
        "colab": {
          "base_uri": "https://localhost:8080/",
          "height": 332
        },
        "outputId": "33716126-a4c6-4fe2-b614-31f0c250cf5b"
      },
      "source": [
        "x = np.array([np.random.sample(5) for _ in range(100)] + [np.random.sample(5)+1 for _ in range(100)])\n",
        "y = np.array([0 for _ in range(100)] + [1 for _ in range(100)])\n",
        "\n",
        "x_image = np.array([np.mean(i) for i in x])\n",
        "\n",
        "plt.scatter(x_image, y)\n",
        "plt.show()\n",
        "\n",
        "model = tf.keras.models.Sequential([\n",
        "                                    tf.keras.layers.Dense(1, activation='sigmoid')\n",
        "])\n",
        "model.compile(optimizer='adam', loss='binary_crossentropy', metrics=['accuracy'])\n",
        "history = model.fit(x, y, epochs=500, verbose=0)\n",
        "loss, acc = model.evaluate(x, y, verbose=1)\n",
        "\n",
        "x_0 = np.array([np.random.sample(5)])\n",
        "pred_0 = model.predict(x_0)\n",
        "print('Prediction for:',x_0, 'Predicted Label:',0 if pred_0[0][0]<0.5 else 1)\n",
        "\n",
        "x_1 = np.array([np.random.sample(5)+1])\n",
        "pred_1 = model.predict(x_1)\n",
        "print('Prediction for:',x_1, 'Predicted Label:',0 if pred_1[0][0]<0.5 else 1)\n",
        "\n",
        "y_pred = model.predict(x)\n",
        "y_pred = y_pred.flatten()\n",
        "y_pred = [0 if i<0.5 else 1 for i in y_pred]\n",
        "print('Sum of All Predicted Labels:', sum(y_pred))"
      ],
      "execution_count": 35,
      "outputs": [
        {
          "output_type": "display_data",
          "data": {
            "image/png": "[encoded data removed]",
            "text/plain": [
              "<Figure size 432x288 with 1 Axes>"
            ]
          },
          "metadata": {
            "tags": [],
            "needs_background": "light"
          }
        },
        {
          "output_type": "stream",
          "text": [
            "7/7 [==============================] - 0s 1ms/step - loss: 0.2053 - accuracy: 0.9900\n",
            "Prediction for: [[0.61511043 0.10005034 0.75728873 0.63586219 0.12573001]] Predicted Label: 0\n",
            "Prediction for: [[1.35828825 1.73248822 1.98826871 1.52676735 1.40603689]] Predicted Label: 1\n",
            "Sum of All Predicted Labels: 102\n"
          ],
          "name": "stdout"
        }
      ]
    },
    {
      "cell_type": "markdown",
      "metadata": {
        "id": "mVydgovk_30o",
        "colab_type": "text"
      },
      "source": [
        "Let's see what happens when we try a weird x:"
      ]
    },
    {
      "cell_type": "code",
      "metadata": {
        "id": "x4FcLR0X_eWA",
        "colab_type": "code",
        "colab": {
          "base_uri": "https://localhost:8080/",
          "height": 34
        },
        "outputId": "dce7e1fe-6a3b-418b-d184-d6ebaa3166c6"
      },
      "source": [
        "x_2 = np.array([np.random.sample(5)+2])\n",
        "pred_2 = model.predict(x_2)\n",
        "print('Prediction for:',x_2, 'Predicted Label:',0 if pred_2[0][0]<0.5 else 1)"
      ],
      "execution_count": 36,
      "outputs": [
        {
          "output_type": "stream",
          "text": [
            "Prediction for: [[2.773486   2.13129256 2.42357369 2.97922934 2.62683234]] Predicted Label: 1\n"
          ],
          "name": "stdout"
        }
      ]
    },
    {
      "cell_type": "code",
      "metadata": {
        "id": "O2algItVAGq_",
        "colab_type": "code",
        "colab": {
          "base_uri": "https://localhost:8080/",
          "height": 34
        },
        "outputId": "ff615e95-8d27-4a5d-8bc9-6fada6dc3c9e"
      },
      "source": [
        "x_m1 = np.array([np.random.sample(5)-1])\n",
        "pred_m1 = model.predict(x_m1)\n",
        "print('Prediction for:',x_m1, 'Predicted Label:',0 if pred_m1[0][0]<0.5 else 1)"
      ],
      "execution_count": 37,
      "outputs": [
        {
          "output_type": "stream",
          "text": [
            "Prediction for: [[-0.85905485 -0.073301   -0.61969783 -0.66044289 -0.70646453]] Predicted Label: 0\n"
          ],
          "name": "stdout"
        }
      ]
    },
    {
      "cell_type": "code",
      "metadata": {
        "id": "-doc3LheAOky",
        "colab_type": "code",
        "colab": {
          "base_uri": "https://localhost:8080/",
          "height": 67
        },
        "outputId": "e32d8097-dbbb-4995-ecd6-2dd2573a8bcf"
      },
      "source": [
        "result_1_r_0 = 0\n",
        "for _ in trange(10000):\n",
        "  x_p100_m50 = np.array([np.random.sample(5)*100-50])\n",
        "  pred_p100_m50 = model.predict(x_p100_m50)\n",
        "  #print('Prediction for:',x_p100_m50, 'Predicted Label:',0 if pred_p100_m50[0][0]<0.5 else 1)\n",
        "  result_1_r_0 += 0 if pred_p100_m50[0][0]<0.5 else 1\n",
        "result_1_r_0 /= 100\n",
        "print(\"\\nRatio of 1 over 0 (1/0)\", result_1_r_0) "
      ],
      "execution_count": 47,
      "outputs": [
        {
          "output_type": "stream",
          "text": [
            "100%|██████████| 100/100 [00:02<00:00, 46.15it/s]"
          ],
          "name": "stderr"
        },
        {
          "output_type": "stream",
          "text": [
            "\n",
            "Ratio of 1 over 0 (1/0) 0.5\n"
          ],
          "name": "stdout"
        },
        {
          "output_type": "stream",
          "text": [
            "\n"
          ],
          "name": "stderr"
        }
      ]
    },
    {
      "cell_type": "markdown",
      "metadata": {
        "id": "smnm24XpBmpI",
        "colab_type": "text"
      },
      "source": [
        "Well Perfect Results, this wasn't important I was just interested in the results."
      ]
    },
    {
      "cell_type": "markdown",
      "metadata": {
        "id": "xEJ7JWqxBupb",
        "colab_type": "text"
      },
      "source": [
        "## INTRODUCTION:\n",
        "\n",
        "### Generalization:\n",
        "In machine learning, generalization usually refers to the ability of an algorithm to be effective across a range of inputs and applications. So basically your model should neither OverFit nor UnderFit. The problem with this is that when we simply run the model with say the above outlook we will simply see an accuracy of 90% and then pogchamp but then later realise that it has poorly fit. \n",
        "\n",
        "So firstly take a look at your dataset. How it's description is, how many parameters your model has, cross-validation results, precision, recall, F1 Score, ROC Curve (Train and Validation), so many things can be and should be implemented. This article basically sits down to develop a pipeline which I can follow to realise whether I have made a model which is general or not. \n",
        "\n",
        "*Warning: I am new to ML, so please don't use/listen to everything I say blindly. Most of these things I either found or read and have no idea how many of them I may have read. Whatever places I can cite I will cite. Anyone wants to help please feel free to."
      ]
    },
    {
      "cell_type": "markdown",
      "metadata": {
        "id": "f2enxU_zDywi",
        "colab_type": "text"
      },
      "source": [
        "#### Question: Does Generalization exist for Unsupervised?\n",
        "\n",
        "I think it does. It should ideally exist. I mean suppose you have checked your K-Means model on a dataset with P1 - Probability Distribution, it will not give the same results when implemented on a dataset with P2 - Probability Distribution, why? because now the Clustering Parameters have changed. Suppose the K-Means implementation uses "
      ]
    },
    {
      "cell_type": "markdown",
      "metadata": {
        "id": "6S162-L3GTMR",
        "colab_type": "text"
      },
      "source": [
        "Datasets for K-Means"
      ]
    },
    {
      "cell_type": "code",
      "metadata": {
        "id": "iPz6mfJaAVvN",
        "colab_type": "code",
        "colab": {}
      },
      "source": [
        "dataset_1 = np.array([np.random.sample(1) for _ in range(5)] + [np.random.sample(1)*5 for _ in range(100)] + [np.random.sample(1)*10+5 for _ in range(10)] + [np.random.sample(1)*5+15 for _ in range(100)])\n",
        "dataset_2 = np.array([np.random.sample(1) for _ in range(100)] + [np.random.sample(1)*5 for _ in range(5)] + [np.random.sample(1)*10+5 for _ in range(100)] + [np.random.sample(1)*5+15 for _ in range(10)])\n",
        "dataset_3 = np.array([np.random.sample(1) for _ in range(4)] + [np.random.sample(1)*5 for _ in range(101)] + [np.random.sample(1)*10+5 for _ in range(11)] + [np.random.sample(1)*5+15 for _ in range(99)])"
      ],
      "execution_count": 57,
      "outputs": []
    },
    {
      "cell_type": "code",
      "metadata": {
        "id": "AxBD8ZAyGSkv",
        "colab_type": "code",
        "colab": {
          "base_uri": "https://localhost:8080/",
          "height": 403
        },
        "outputId": "3a54e221-48ee-4f6c-d1f0-fa6568b38003"
      },
      "source": [
        "kmeans = KMeans(n_clusters=2, random_state=0).fit(dataset_1)\n",
        "output_1 = kmeans.labels_\n",
        "output_2 = kmeans.predict(dataset_2)\n",
        "output_3 = kmeans.predict(dataset_3)\n",
        "print('output_1:',np.sum(output_1),'\\n',output_1)\n",
        "print()\n",
        "print('output_2:',np.sum(output_2),'\\n',output_2)\n",
        "print()\n",
        "print('output_3:',np.sum(output_3),'\\n',output_3)"
      ],
      "execution_count": 58,
      "outputs": [
        {
          "output_type": "stream",
          "text": [
            "output_1: 111 \n",
            " [1 1 1 1 1 1 1 1 1 1 1 1 1 1 1 1 1 1 1 1 1 1 1 1 1 1 1 1 1 1 1 1 1 1 1 1 1\n",
            " 1 1 1 1 1 1 1 1 1 1 1 1 1 1 1 1 1 1 1 1 1 1 1 1 1 1 1 1 1 1 1 1 1 1 1 1 1\n",
            " 1 1 1 1 1 1 1 1 1 1 1 1 1 1 1 1 1 1 1 1 1 1 1 1 1 1 1 1 1 1 1 1 0 1 1 0 1\n",
            " 1 1 0 0 0 0 0 0 0 0 0 0 0 0 0 0 0 0 0 0 0 0 0 0 0 0 0 0 0 0 0 0 0 0 0 0 0\n",
            " 0 0 0 0 0 0 0 0 0 0 0 0 0 0 0 0 0 0 0 0 0 0 0 0 0 0 0 0 0 0 0 0 0 0 0 0 0\n",
            " 0 0 0 0 0 0 0 0 0 0 0 0 0 0 0 0 0 0 0 0 0 0 0 0 0 0 0 0 0 0]\n",
            "\n",
            "output_2: 150 \n",
            " [1 1 1 1 1 1 1 1 1 1 1 1 1 1 1 1 1 1 1 1 1 1 1 1 1 1 1 1 1 1 1 1 1 1 1 1 1\n",
            " 1 1 1 1 1 1 1 1 1 1 1 1 1 1 1 1 1 1 1 1 1 1 1 1 1 1 1 1 1 1 1 1 1 1 1 1 1\n",
            " 1 1 1 1 1 1 1 1 1 1 1 1 1 1 1 1 1 1 1 1 1 1 1 1 1 1 1 1 1 1 1 1 0 0 0 1 0\n",
            " 0 0 0 0 0 0 1 1 0 1 1 0 1 1 1 1 1 0 0 0 1 0 0 1 1 1 1 0 1 1 1 0 0 0 1 1 0\n",
            " 0 0 0 0 0 0 0 1 1 1 0 0 0 0 0 0 0 0 0 0 1 0 1 0 1 1 0 1 1 1 1 0 1 0 0 1 0\n",
            " 1 0 0 1 0 1 1 1 0 0 1 1 0 0 0 1 1 0 1 1 0 0 0 0 0 0 0 0 0 0]\n",
            "\n",
            "output_3: 109 \n",
            " [1 1 1 1 1 1 1 1 1 1 1 1 1 1 1 1 1 1 1 1 1 1 1 1 1 1 1 1 1 1 1 1 1 1 1 1 1\n",
            " 1 1 1 1 1 1 1 1 1 1 1 1 1 1 1 1 1 1 1 1 1 1 1 1 1 1 1 1 1 1 1 1 1 1 1 1 1\n",
            " 1 1 1 1 1 1 1 1 1 1 1 1 1 1 1 1 1 1 1 1 1 1 1 1 1 1 1 1 1 1 1 1 1 0 0 1 0\n",
            " 1 0 0 0 0 0 0 0 0 0 0 0 0 0 0 0 0 0 0 0 0 0 0 0 0 0 0 0 0 0 0 0 0 0 0 0 0\n",
            " 0 0 0 0 0 0 0 0 0 0 0 0 0 0 0 0 0 0 0 0 0 0 0 0 0 0 0 0 0 0 0 0 0 0 0 0 0\n",
            " 0 0 0 0 0 0 0 0 0 0 0 0 0 0 0 0 0 0 0 0 0 0 0 0 0 0 0 0 0 0]\n"
          ],
          "name": "stdout"
        }
      ]
    },
    {
      "cell_type": "markdown",
      "metadata": {
        "id": "gAao8kx2H1L8",
        "colab_type": "text"
      },
      "source": [
        "Therefore, changing the probability distribution definitely affects the effect of the model. The thing is Unsupervised Learning is the most susceptible to losing effectiveness as soon as probability distribution of incoming data changes. As you can see, datasets with similar distribution (dataset_1, dataset_3) give similar results, whereas a different distribution (dataset_2) gives weird results."
      ]
    },
    {
      "cell_type": "markdown",
      "metadata": {
        "id": "3BR5vMxqJYsI",
        "colab_type": "text"
      },
      "source": [
        "\n",
        "\n",
        "Now Let us return to describing Generalization for Supervised Learning:\n",
        "\n",
        "There are multiple answers one gets when they search for generalization over Google. The top definition (top search) is at: \n",
        "\n",
        "and given as,\n",
        "\n",
        "```\n",
        "Generalization refers to how well the concepts learned by a machine learning\n",
        "model apply to specific examples not seen by the model when it was learning.\n",
        "\n",
        "The goal of a good machine learning model is to generalize well from the \n",
        "training data to any data from the problem domain. This allows us to make \n",
        "predictions in the future on data the model has never seen.\n",
        "```"
      ]
    },
    {
      "cell_type": "markdown",
      "metadata": {
        "id": "jBNFILxKMXLx",
        "colab_type": "text"
      },
      "source": [
        "What I understand from this, basically Generalization is the ability of the model to give similar results for validation/testing/deploying on similar input data. The thing is concepts rather problems such as overfitting and underfitting hurt the model for these cases.\n",
        "\n",
        "One of the simplest methods we can use to check whether something is overfitting while training is keep a validation set. That way we can see the model's loss/accuracy for the training as well testing case. Let us take the example: \"Logistic Regression\""
      ]
    },
    {
      "cell_type": "markdown",
      "metadata": {
        "id": "rulRAn5TNC-c",
        "colab_type": "text"
      },
      "source": [
        "Dataset"
      ]
    },
    {
      "cell_type": "code",
      "metadata": {
        "id": "wxouqPEIGzYC",
        "colab_type": "code",
        "colab": {}
      },
      "source": [
        "x = np.array([np.random.sample(5) for _ in range(1000)] + [np.random.sample(5)+1 for _ in range(1000)])\n",
        "y = np.array([0 for _ in range(1000)] + [1 for _ in range(1000)])\n",
        "indexes = np.array(range(2000))\n",
        "np.random.shuffle(indexes)\n",
        "x = x[indexes]\n",
        "y = y[indexes]"
      ],
      "execution_count": 66,
      "outputs": []
    },
    {
      "cell_type": "markdown",
      "metadata": {
        "id": "jWtJqldJPWpc",
        "colab_type": "text"
      },
      "source": [
        "Clearing BackEnd and creating a EarlyStopping Callback"
      ]
    },
    {
      "cell_type": "code",
      "metadata": {
        "id": "oOBnIjbINEk9",
        "colab_type": "code",
        "colab": {
          "base_uri": "https://localhost:8080/",
          "height": 1000
        },
        "outputId": "39a88121-78ab-40bd-b651-533dfb7496ce"
      },
      "source": [
        "tf.keras.backend.clear_session()\n",
        "callbacks = [\n",
        "    tf.keras.callbacks.EarlyStopping(\n",
        "        monitor=\"accuracy\",\n",
        "        min_delta=1e-3,\n",
        "        patience=10,\n",
        "        verbose=1,\n",
        "    )]\n",
        "\n",
        "model = tf.keras.models.Sequential([\n",
        "                                    tf.keras.layers.Dense(1, activation='sigmoid')\n",
        "])\n",
        "\n",
        "model.compile(optimizer='adam', loss='binary_crossentropy', metrics=['accuracy'])\n",
        "history = model.fit(x, y, epochs=500, verbose=1, validation_split=0.5, callbacks=callbacks)\n",
        "\n",
        "plt.clf()\n",
        "plt.plot(history.history['accuracy'])\n",
        "plt.plot(history.history['val_accuracy'])\n",
        "plt.show()"
      ],
      "execution_count": 83,
      "outputs": [
        {
          "output_type": "stream",
          "text": [
            "Epoch 1/500\n",
            "WARNING:tensorflow:Layer dense is casting an input tensor from dtype float64 to the layer's dtype of float32, which is new behavior in TensorFlow 2.  The layer has dtype float32 because it's dtype defaults to floatx.\n",
            "\n",
            "If you intended to run this layer in float32, you can safely ignore this warning. If in doubt, this warning is likely only an issue if you are porting a TensorFlow 1.X model to TensorFlow 2.\n",
            "\n",
            "To change all layers to have dtype float64 by default, call `tf.keras.backend.set_floatx('float64')`. To change just this layer, pass dtype='float64' to the layer constructor. If you are the author of this layer, you can disable autocasting by passing autocast=False to the base Layer constructor.\n",
            "\n",
            "32/32 [==============================] - 0s 5ms/step - loss: 0.6881 - accuracy: 0.5370 - val_loss: 0.6702 - val_accuracy: 0.5790\n",
            "Epoch 2/500\n",
            "32/32 [==============================] - 0s 3ms/step - loss: 0.6622 - accuracy: 0.5940 - val_loss: 0.6442 - val_accuracy: 0.6160\n",
            "Epoch 3/500\n",
            "32/32 [==============================] - 0s 3ms/step - loss: 0.6423 - accuracy: 0.6150 - val_loss: 0.6236 - val_accuracy: 0.6390\n",
            "Epoch 4/500\n",
            "32/32 [==============================] - 0s 2ms/step - loss: 0.6267 - accuracy: 0.6230 - val_loss: 0.6068 - val_accuracy: 0.6590\n",
            "Epoch 5/500\n",
            "32/32 [==============================] - 0s 2ms/step - loss: 0.6137 - accuracy: 0.6340 - val_loss: 0.5934 - val_accuracy: 0.6670\n",
            "Epoch 6/500\n",
            "32/32 [==============================] - 0s 3ms/step - loss: 0.6028 - accuracy: 0.6330 - val_loss: 0.5817 - val_accuracy: 0.6710\n",
            "Epoch 7/500\n",
            "32/32 [==============================] - 0s 2ms/step - loss: 0.5930 - accuracy: 0.6330 - val_loss: 0.5720 - val_accuracy: 0.6750\n",
            "Epoch 8/500\n",
            "32/32 [==============================] - 0s 2ms/step - loss: 0.5842 - accuracy: 0.6390 - val_loss: 0.5629 - val_accuracy: 0.6770\n",
            "Epoch 9/500\n",
            "32/32 [==============================] - 0s 3ms/step - loss: 0.5760 - accuracy: 0.6440 - val_loss: 0.5542 - val_accuracy: 0.6770\n",
            "Epoch 10/500\n",
            "32/32 [==============================] - 0s 3ms/step - loss: 0.5684 - accuracy: 0.6490 - val_loss: 0.5466 - val_accuracy: 0.6800\n",
            "Epoch 11/500\n",
            "32/32 [==============================] - 0s 3ms/step - loss: 0.5613 - accuracy: 0.6560 - val_loss: 0.5398 - val_accuracy: 0.6910\n",
            "Epoch 12/500\n",
            "32/32 [==============================] - 0s 3ms/step - loss: 0.5543 - accuracy: 0.6590 - val_loss: 0.5324 - val_accuracy: 0.6920\n",
            "Epoch 13/500\n",
            "32/32 [==============================] - 0s 2ms/step - loss: 0.5475 - accuracy: 0.6640 - val_loss: 0.5261 - val_accuracy: 0.7000\n",
            "Epoch 14/500\n",
            "32/32 [==============================] - 0s 3ms/step - loss: 0.5410 - accuracy: 0.6690 - val_loss: 0.5198 - val_accuracy: 0.7040\n",
            "Epoch 15/500\n",
            "32/32 [==============================] - 0s 3ms/step - loss: 0.5346 - accuracy: 0.6740 - val_loss: 0.5137 - val_accuracy: 0.7140\n",
            "Epoch 16/500\n",
            "32/32 [==============================] - 0s 3ms/step - loss: 0.5285 - accuracy: 0.6800 - val_loss: 0.5077 - val_accuracy: 0.7200\n",
            "Epoch 17/500\n",
            "32/32 [==============================] - 0s 2ms/step - loss: 0.5224 - accuracy: 0.6890 - val_loss: 0.5016 - val_accuracy: 0.7240\n",
            "Epoch 18/500\n",
            "32/32 [==============================] - 0s 3ms/step - loss: 0.5164 - accuracy: 0.6940 - val_loss: 0.4961 - val_accuracy: 0.7330\n",
            "Epoch 19/500\n",
            "32/32 [==============================] - 0s 3ms/step - loss: 0.5106 - accuracy: 0.7020 - val_loss: 0.4904 - val_accuracy: 0.7380\n",
            "Epoch 20/500\n",
            "32/32 [==============================] - 0s 3ms/step - loss: 0.5049 - accuracy: 0.7080 - val_loss: 0.4847 - val_accuracy: 0.7470\n",
            "Epoch 21/500\n",
            "32/32 [==============================] - 0s 3ms/step - loss: 0.4993 - accuracy: 0.7150 - val_loss: 0.4796 - val_accuracy: 0.7550\n",
            "Epoch 22/500\n",
            "32/32 [==============================] - 0s 2ms/step - loss: 0.4937 - accuracy: 0.7270 - val_loss: 0.4744 - val_accuracy: 0.7600\n",
            "Epoch 23/500\n",
            "32/32 [==============================] - 0s 3ms/step - loss: 0.4882 - accuracy: 0.7380 - val_loss: 0.4693 - val_accuracy: 0.7650\n",
            "Epoch 24/500\n",
            "32/32 [==============================] - 0s 2ms/step - loss: 0.4828 - accuracy: 0.7430 - val_loss: 0.4642 - val_accuracy: 0.7740\n",
            "Epoch 25/500\n",
            "32/32 [==============================] - 0s 3ms/step - loss: 0.4775 - accuracy: 0.7500 - val_loss: 0.4590 - val_accuracy: 0.7840\n",
            "Epoch 26/500\n",
            "32/32 [==============================] - 0s 3ms/step - loss: 0.4723 - accuracy: 0.7550 - val_loss: 0.4540 - val_accuracy: 0.7880\n",
            "Epoch 27/500\n",
            "32/32 [==============================] - 0s 2ms/step - loss: 0.4672 - accuracy: 0.7640 - val_loss: 0.4489 - val_accuracy: 0.7920\n",
            "Epoch 28/500\n",
            "32/32 [==============================] - 0s 3ms/step - loss: 0.4621 - accuracy: 0.7730 - val_loss: 0.4442 - val_accuracy: 0.7970\n",
            "Epoch 29/500\n",
            "32/32 [==============================] - 0s 3ms/step - loss: 0.4571 - accuracy: 0.7790 - val_loss: 0.4394 - val_accuracy: 0.8000\n",
            "Epoch 30/500\n",
            "32/32 [==============================] - 0s 2ms/step - loss: 0.4523 - accuracy: 0.7830 - val_loss: 0.4345 - val_accuracy: 0.8030\n",
            "Epoch 31/500\n",
            "32/32 [==============================] - 0s 3ms/step - loss: 0.4475 - accuracy: 0.7920 - val_loss: 0.4301 - val_accuracy: 0.8090\n",
            "Epoch 32/500\n",
            "32/32 [==============================] - 0s 3ms/step - loss: 0.4427 - accuracy: 0.7970 - val_loss: 0.4254 - val_accuracy: 0.8110\n",
            "Epoch 33/500\n",
            "32/32 [==============================] - 0s 2ms/step - loss: 0.4379 - accuracy: 0.8060 - val_loss: 0.4210 - val_accuracy: 0.8230\n",
            "Epoch 34/500\n",
            "32/32 [==============================] - 0s 3ms/step - loss: 0.4333 - accuracy: 0.8100 - val_loss: 0.4167 - val_accuracy: 0.8310\n",
            "Epoch 35/500\n",
            "32/32 [==============================] - 0s 3ms/step - loss: 0.4287 - accuracy: 0.8160 - val_loss: 0.4125 - val_accuracy: 0.8370\n",
            "Epoch 36/500\n",
            "32/32 [==============================] - 0s 3ms/step - loss: 0.4242 - accuracy: 0.8260 - val_loss: 0.4083 - val_accuracy: 0.8410\n",
            "Epoch 37/500\n",
            "32/32 [==============================] - 0s 3ms/step - loss: 0.4197 - accuracy: 0.8340 - val_loss: 0.4040 - val_accuracy: 0.8490\n",
            "Epoch 38/500\n",
            "32/32 [==============================] - 0s 3ms/step - loss: 0.4153 - accuracy: 0.8420 - val_loss: 0.3998 - val_accuracy: 0.8560\n",
            "Epoch 39/500\n",
            "32/32 [==============================] - 0s 3ms/step - loss: 0.4110 - accuracy: 0.8460 - val_loss: 0.3957 - val_accuracy: 0.8630\n",
            "Epoch 40/500\n",
            "32/32 [==============================] - 0s 3ms/step - loss: 0.4067 - accuracy: 0.8540 - val_loss: 0.3916 - val_accuracy: 0.8710\n",
            "Epoch 41/500\n",
            "32/32 [==============================] - 0s 2ms/step - loss: 0.4025 - accuracy: 0.8600 - val_loss: 0.3877 - val_accuracy: 0.8810\n",
            "Epoch 42/500\n",
            "32/32 [==============================] - 0s 3ms/step - loss: 0.3983 - accuracy: 0.8650 - val_loss: 0.3834 - val_accuracy: 0.8840\n",
            "Epoch 43/500\n",
            "32/32 [==============================] - 0s 3ms/step - loss: 0.3942 - accuracy: 0.8790 - val_loss: 0.3798 - val_accuracy: 0.8950\n",
            "Epoch 44/500\n",
            "32/32 [==============================] - 0s 3ms/step - loss: 0.3900 - accuracy: 0.8860 - val_loss: 0.3758 - val_accuracy: 0.8990\n",
            "Epoch 45/500\n",
            "32/32 [==============================] - 0s 2ms/step - loss: 0.3861 - accuracy: 0.8900 - val_loss: 0.3720 - val_accuracy: 0.9050\n",
            "Epoch 46/500\n",
            "32/32 [==============================] - 0s 2ms/step - loss: 0.3821 - accuracy: 0.8940 - val_loss: 0.3680 - val_accuracy: 0.9070\n",
            "Epoch 47/500\n",
            "32/32 [==============================] - 0s 3ms/step - loss: 0.3782 - accuracy: 0.8970 - val_loss: 0.3643 - val_accuracy: 0.9140\n",
            "Epoch 48/500\n",
            "32/32 [==============================] - 0s 3ms/step - loss: 0.3744 - accuracy: 0.9030 - val_loss: 0.3608 - val_accuracy: 0.9190\n",
            "Epoch 49/500\n",
            "32/32 [==============================] - 0s 3ms/step - loss: 0.3705 - accuracy: 0.9070 - val_loss: 0.3570 - val_accuracy: 0.9220\n",
            "Epoch 50/500\n",
            "32/32 [==============================] - 0s 2ms/step - loss: 0.3668 - accuracy: 0.9140 - val_loss: 0.3533 - val_accuracy: 0.9240\n",
            "Epoch 51/500\n",
            "32/32 [==============================] - 0s 3ms/step - loss: 0.3632 - accuracy: 0.9170 - val_loss: 0.3500 - val_accuracy: 0.9330\n",
            "Epoch 52/500\n",
            "32/32 [==============================] - 0s 3ms/step - loss: 0.3594 - accuracy: 0.9180 - val_loss: 0.3463 - val_accuracy: 0.9350\n",
            "Epoch 53/500\n",
            "32/32 [==============================] - 0s 3ms/step - loss: 0.3558 - accuracy: 0.9250 - val_loss: 0.3431 - val_accuracy: 0.9390\n",
            "Epoch 54/500\n",
            "32/32 [==============================] - 0s 2ms/step - loss: 0.3522 - accuracy: 0.9290 - val_loss: 0.3397 - val_accuracy: 0.9430\n",
            "Epoch 55/500\n",
            "32/32 [==============================] - 0s 2ms/step - loss: 0.3487 - accuracy: 0.9320 - val_loss: 0.3364 - val_accuracy: 0.9450\n",
            "Epoch 56/500\n",
            "32/32 [==============================] - 0s 3ms/step - loss: 0.3452 - accuracy: 0.9370 - val_loss: 0.3329 - val_accuracy: 0.9460\n",
            "Epoch 57/500\n",
            "32/32 [==============================] - 0s 3ms/step - loss: 0.3417 - accuracy: 0.9370 - val_loss: 0.3296 - val_accuracy: 0.9470\n",
            "Epoch 58/500\n",
            "32/32 [==============================] - 0s 2ms/step - loss: 0.3383 - accuracy: 0.9390 - val_loss: 0.3265 - val_accuracy: 0.9510\n",
            "Epoch 59/500\n",
            "32/32 [==============================] - 0s 3ms/step - loss: 0.3349 - accuracy: 0.9400 - val_loss: 0.3232 - val_accuracy: 0.9530\n",
            "Epoch 60/500\n",
            "32/32 [==============================] - 0s 3ms/step - loss: 0.3316 - accuracy: 0.9420 - val_loss: 0.3200 - val_accuracy: 0.9560\n",
            "Epoch 61/500\n",
            "32/32 [==============================] - 0s 3ms/step - loss: 0.3283 - accuracy: 0.9470 - val_loss: 0.3168 - val_accuracy: 0.9570\n",
            "Epoch 62/500\n",
            "32/32 [==============================] - 0s 3ms/step - loss: 0.3250 - accuracy: 0.9520 - val_loss: 0.3138 - val_accuracy: 0.9630\n",
            "Epoch 63/500\n",
            "32/32 [==============================] - 0s 3ms/step - loss: 0.3218 - accuracy: 0.9580 - val_loss: 0.3107 - val_accuracy: 0.9660\n",
            "Epoch 64/500\n",
            "32/32 [==============================] - 0s 3ms/step - loss: 0.3186 - accuracy: 0.9600 - val_loss: 0.3076 - val_accuracy: 0.9660\n",
            "Epoch 65/500\n",
            "32/32 [==============================] - 0s 2ms/step - loss: 0.3155 - accuracy: 0.9630 - val_loss: 0.3047 - val_accuracy: 0.9670\n",
            "Epoch 66/500\n",
            "32/32 [==============================] - 0s 2ms/step - loss: 0.3124 - accuracy: 0.9650 - val_loss: 0.3017 - val_accuracy: 0.9680\n",
            "Epoch 67/500\n",
            "32/32 [==============================] - 0s 3ms/step - loss: 0.3094 - accuracy: 0.9680 - val_loss: 0.2987 - val_accuracy: 0.9680\n",
            "Epoch 68/500\n",
            "32/32 [==============================] - 0s 3ms/step - loss: 0.3064 - accuracy: 0.9690 - val_loss: 0.2957 - val_accuracy: 0.9690\n",
            "Epoch 69/500\n",
            "32/32 [==============================] - 0s 3ms/step - loss: 0.3033 - accuracy: 0.9700 - val_loss: 0.2930 - val_accuracy: 0.9730\n",
            "Epoch 70/500\n",
            "32/32 [==============================] - 0s 3ms/step - loss: 0.3004 - accuracy: 0.9710 - val_loss: 0.2900 - val_accuracy: 0.9730\n",
            "Epoch 71/500\n",
            "32/32 [==============================] - 0s 3ms/step - loss: 0.2975 - accuracy: 0.9710 - val_loss: 0.2872 - val_accuracy: 0.9750\n",
            "Epoch 72/500\n",
            "32/32 [==============================] - 0s 3ms/step - loss: 0.2947 - accuracy: 0.9710 - val_loss: 0.2848 - val_accuracy: 0.9810\n",
            "Epoch 73/500\n",
            "32/32 [==============================] - 0s 3ms/step - loss: 0.2917 - accuracy: 0.9720 - val_loss: 0.2820 - val_accuracy: 0.9820\n",
            "Epoch 74/500\n",
            "32/32 [==============================] - 0s 3ms/step - loss: 0.2889 - accuracy: 0.9750 - val_loss: 0.2794 - val_accuracy: 0.9860\n",
            "Epoch 75/500\n",
            "32/32 [==============================] - 0s 3ms/step - loss: 0.2861 - accuracy: 0.9750 - val_loss: 0.2765 - val_accuracy: 0.9860\n",
            "Epoch 76/500\n",
            "32/32 [==============================] - 0s 3ms/step - loss: 0.2834 - accuracy: 0.9750 - val_loss: 0.2739 - val_accuracy: 0.9860\n",
            "Epoch 77/500\n",
            "32/32 [==============================] - 0s 3ms/step - loss: 0.2807 - accuracy: 0.9760 - val_loss: 0.2714 - val_accuracy: 0.9890\n",
            "Epoch 78/500\n",
            "32/32 [==============================] - 0s 3ms/step - loss: 0.2780 - accuracy: 0.9770 - val_loss: 0.2688 - val_accuracy: 0.9890\n",
            "Epoch 79/500\n",
            "32/32 [==============================] - 0s 3ms/step - loss: 0.2754 - accuracy: 0.9800 - val_loss: 0.2663 - val_accuracy: 0.9910\n",
            "Epoch 80/500\n",
            "32/32 [==============================] - 0s 2ms/step - loss: 0.2727 - accuracy: 0.9800 - val_loss: 0.2637 - val_accuracy: 0.9910\n",
            "Epoch 81/500\n",
            "32/32 [==============================] - 0s 3ms/step - loss: 0.2701 - accuracy: 0.9830 - val_loss: 0.2614 - val_accuracy: 0.9920\n",
            "Epoch 82/500\n",
            "32/32 [==============================] - 0s 3ms/step - loss: 0.2676 - accuracy: 0.9860 - val_loss: 0.2589 - val_accuracy: 0.9920\n",
            "Epoch 83/500\n",
            "32/32 [==============================] - 0s 3ms/step - loss: 0.2650 - accuracy: 0.9880 - val_loss: 0.2565 - val_accuracy: 0.9920\n",
            "Epoch 84/500\n",
            "32/32 [==============================] - 0s 3ms/step - loss: 0.2625 - accuracy: 0.9880 - val_loss: 0.2541 - val_accuracy: 0.9920\n",
            "Epoch 85/500\n",
            "32/32 [==============================] - 0s 2ms/step - loss: 0.2600 - accuracy: 0.9880 - val_loss: 0.2517 - val_accuracy: 0.9930\n",
            "Epoch 86/500\n",
            "32/32 [==============================] - 0s 3ms/step - loss: 0.2575 - accuracy: 0.9880 - val_loss: 0.2494 - val_accuracy: 0.9940\n",
            "Epoch 87/500\n",
            "32/32 [==============================] - 0s 3ms/step - loss: 0.2551 - accuracy: 0.9900 - val_loss: 0.2470 - val_accuracy: 0.9940\n",
            "Epoch 88/500\n",
            "32/32 [==============================] - 0s 3ms/step - loss: 0.2527 - accuracy: 0.9910 - val_loss: 0.2447 - val_accuracy: 0.9940\n",
            "Epoch 89/500\n",
            "32/32 [==============================] - 0s 2ms/step - loss: 0.2504 - accuracy: 0.9910 - val_loss: 0.2423 - val_accuracy: 0.9940\n",
            "Epoch 90/500\n",
            "32/32 [==============================] - 0s 3ms/step - loss: 0.2480 - accuracy: 0.9910 - val_loss: 0.2403 - val_accuracy: 0.9950\n",
            "Epoch 91/500\n",
            "32/32 [==============================] - 0s 2ms/step - loss: 0.2457 - accuracy: 0.9910 - val_loss: 0.2379 - val_accuracy: 0.9960\n",
            "Epoch 92/500\n",
            "32/32 [==============================] - 0s 3ms/step - loss: 0.2434 - accuracy: 0.9920 - val_loss: 0.2358 - val_accuracy: 0.9970\n",
            "Epoch 93/500\n",
            "32/32 [==============================] - 0s 3ms/step - loss: 0.2411 - accuracy: 0.9920 - val_loss: 0.2336 - val_accuracy: 0.9970\n",
            "Epoch 94/500\n",
            "32/32 [==============================] - 0s 3ms/step - loss: 0.2389 - accuracy: 0.9920 - val_loss: 0.2315 - val_accuracy: 0.9970\n",
            "Epoch 95/500\n",
            "32/32 [==============================] - 0s 3ms/step - loss: 0.2367 - accuracy: 0.9920 - val_loss: 0.2294 - val_accuracy: 0.9970\n",
            "Epoch 96/500\n",
            "32/32 [==============================] - 0s 3ms/step - loss: 0.2345 - accuracy: 0.9940 - val_loss: 0.2273 - val_accuracy: 0.9970\n",
            "Epoch 97/500\n",
            "32/32 [==============================] - 0s 3ms/step - loss: 0.2323 - accuracy: 0.9940 - val_loss: 0.2252 - val_accuracy: 0.9970\n",
            "Epoch 98/500\n",
            "32/32 [==============================] - 0s 3ms/step - loss: 0.2302 - accuracy: 0.9940 - val_loss: 0.2230 - val_accuracy: 0.9970\n",
            "Epoch 99/500\n",
            "32/32 [==============================] - 0s 3ms/step - loss: 0.2280 - accuracy: 0.9940 - val_loss: 0.2210 - val_accuracy: 0.9980\n",
            "Epoch 100/500\n",
            "32/32 [==============================] - 0s 3ms/step - loss: 0.2260 - accuracy: 0.9940 - val_loss: 0.2193 - val_accuracy: 0.9980\n",
            "Epoch 101/500\n",
            "32/32 [==============================] - 0s 3ms/step - loss: 0.2239 - accuracy: 0.9950 - val_loss: 0.2173 - val_accuracy: 0.9980\n",
            "Epoch 102/500\n",
            "32/32 [==============================] - 0s 3ms/step - loss: 0.2218 - accuracy: 0.9950 - val_loss: 0.2152 - val_accuracy: 0.9980\n",
            "Epoch 103/500\n",
            "32/32 [==============================] - 0s 3ms/step - loss: 0.2198 - accuracy: 0.9950 - val_loss: 0.2132 - val_accuracy: 0.9980\n",
            "Epoch 104/500\n",
            "32/32 [==============================] - 0s 2ms/step - loss: 0.2178 - accuracy: 0.9950 - val_loss: 0.2113 - val_accuracy: 0.9980\n",
            "Epoch 105/500\n",
            "32/32 [==============================] - 0s 3ms/step - loss: 0.2159 - accuracy: 0.9950 - val_loss: 0.2096 - val_accuracy: 0.9980\n",
            "Epoch 106/500\n",
            "32/32 [==============================] - 0s 3ms/step - loss: 0.2139 - accuracy: 0.9950 - val_loss: 0.2074 - val_accuracy: 0.9980\n",
            "Epoch 00106: early stopping\n"
          ],
          "name": "stdout"
        },
        {
          "output_type": "display_data",
          "data": {
            "image/png": "[encoded data removed]",
            "text/plain": [
              "<Figure size 432x288 with 1 Axes>"
            ]
          },
          "metadata": {
            "tags": [],
            "needs_background": "light"
          }
        }
      ]
    },
    {
      "cell_type": "markdown",
      "metadata": {
        "id": "o1QrLup7NtDI",
        "colab_type": "text"
      },
      "source": [
        "The Above Results are useful because Val_accuracy and Accuracy definitely show similar growth. There paths are close to each other and hence we can say the modle is a bit more general. Why? Because since we gave it unseen data it still continues to hold the same accuracy as it goes further a better Parameter insead of Accuracy is Loss here. Let us take a look at that first."
      ]
    },
    {
      "cell_type": "code",
      "metadata": {
        "id": "jJpDTtsXNeac",
        "colab_type": "code",
        "colab": {
          "base_uri": "https://localhost:8080/",
          "height": 265
        },
        "outputId": "0953e4e0-edf5-4da9-ea5d-dfe1b25281ab"
      },
      "source": [
        "plt.clf()\n",
        "plt.plot(history.history['loss'])\n",
        "plt.plot(history.history['val_loss'])\n",
        "plt.show()"
      ],
      "execution_count": 84,
      "outputs": [
        {
          "output_type": "display_data",
          "data": {
            "image/png": "[encoded data removed]",
            "text/plain": [
              "<Figure size 432x288 with 1 Axes>"
            ]
          },
          "metadata": {
            "tags": [],
            "needs_background": "light"
          }
        }
      ]
    },
    {
      "cell_type": "markdown",
      "metadata": {
        "id": "dn7U8zw1RCSL",
        "colab_type": "text"
      },
      "source": [
        "Similar Results, Val_loss matches the training Loss"
      ]
    },
    {
      "cell_type": "markdown",
      "metadata": {
        "id": "CMWaTfUxRb_j",
        "colab_type": "text"
      },
      "source": [
        "Let us Further go ahead and try plotting the ROC curve for this. Area Under Curve"
      ]
    },
    {
      "cell_type": "code",
      "metadata": {
        "id": "HngeaRJMRBDr",
        "colab_type": "code",
        "colab": {
          "base_uri": "https://localhost:8080/",
          "height": 298
        },
        "outputId": "48bd072a-9273-46fa-8e91-8f5077ec5267"
      },
      "source": [
        "x_train = x[:int(0.5*y.shape[0])]\n",
        "x_test = x[int(0.5*y.shape[0]):]\n",
        "\n",
        "pred_train = [1 if i[0]>0.5 else 0 for i in model.predict(x_train)]\n",
        "pred_test = [1 if i[0]>0.5 else 0 for i in model.predict(x_test)]\n",
        "\n",
        "y_train = y[:int(0.5*y.shape[0])]\n",
        "y_test = y[int(0.5*y.shape[0]):]\n",
        "\n",
        "fpr_train, tpr_train, _ = metrics.roc_curve(y_train, pred_train)\n",
        "fpr_test, tpr_test, _ = metrics.roc_curve(y_test, pred_test)\n",
        "\n",
        "auc_train = metrics.auc(fpr_train, tpr_train)\n",
        "auc_test = metrics.auc(fpr_test, tpr_test)\n",
        "\n",
        "print('Area Under the Curve Train:\\t', auc_train)\n",
        "print('Area Under the Curve Test:\\t', auc_test)\n",
        "\n",
        "plt.plot(fpr_train, tpr_train)\n",
        "plt.plot(fpr_test, tpr_test)\n",
        "plt.show()"
      ],
      "execution_count": 95,
      "outputs": [
        {
          "output_type": "stream",
          "text": [
            "Area Under the Curve Train:\t 0.9952015355086372\n",
            "Area Under the Curve Test:\t 0.9979123173277662\n"
          ],
          "name": "stdout"
        },
        {
          "output_type": "display_data",
          "data": {
            "image/png": "[encoded data removed]",
            "text/plain": [
              "<Figure size 432x288 with 1 Axes>"
            ]
          },
          "metadata": {
            "tags": [],
            "needs_background": "light"
          }
        }
      ]
    },
    {
      "cell_type": "markdown",
      "metadata": {
        "id": "tAAepxSmW9WG",
        "colab_type": "text"
      },
      "source": [
        "However, all the above things I have said are to be implemented during training except for the ROC curve which can be implemented after training. The next section will discuss how to evaluate generalization on a already trained Model. Just like the ROC curve.\n",
        "\n",
        "1. ROC CURVE and AUC \n",
        "\n",
        "(https://ncss-wpengine.netdna-ssl.com/wp-content/themes/ncss/pdf/Procedures/NCSS/Comparing_Two_ROC_Curves-Independent_Groups_Design.pdf)\n",
        "2. TOC CURVE\n",
        "\n",
        "Methods I was thinking of applying:\n",
        "\n",
        "1. Sampling and Checking Loss on Training and Validation Set by Windowing over root(n) samples. Or any other sublinear function. Scoring using Stochastic Outlier Selection\n",
        "2. Accuracy check using the above.\n",
        "3. Entropy of the above two lists\n",
        "\n",
        "Finally using some ANN  or mathematical formula we can score it between 0 and 1. 0 being a highly overfitting model and 1 being a very general model."
      ]
    },
    {
      "cell_type": "code",
      "metadata": {
        "id": "o0ouB1uGTbBP",
        "colab_type": "code",
        "colab": {}
      },
      "source": [
        ""
      ],
      "execution_count": null,
      "outputs": []
    }
  ]
}