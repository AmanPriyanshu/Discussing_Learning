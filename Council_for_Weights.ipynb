{
  "nbformat": 4,
  "nbformat_minor": 0,
  "metadata": {
    "colab": {
      "name": "Council for Weights.ipynb",
      "provenance": [],
      "authorship_tag": "ABX9TyNHhutf+52n+b+bgwD+Tlh9",
      "include_colab_link": true
    },
    "kernelspec": {
      "name": "python3",
      "display_name": "Python 3"
    }
  },
  "cells": [
    {
      "cell_type": "markdown",
      "metadata": {
        "id": "view-in-github",
        "colab_type": "text"
      },
      "source": [
        "<a href=\"https://colab.research.google.com/github/AmanPriyanshu/Discussing_Learning/blob/master/Council_for_Weights.ipynb\" target=\"_parent\"><img src=\"https://colab.research.google.com/assets/colab-badge.svg\" alt=\"Open In Colab\"/></a>"
      ]
    },
    {
      "cell_type": "markdown",
      "metadata": {
        "id": "58VYkKzETJtR",
        "colab_type": "text"
      },
      "source": [
        "## INTRODUCTION:\n",
        "\n",
        "Weight Initialization is an important factor in Machine Learning. With the recent paper talking about the Lottery System, etc. it can be said that the random seed used to create these samples are important, here we will be implementing one such method to understanding it. Maybe."
      ]
    },
    {
      "cell_type": "markdown",
      "metadata": {
        "id": "Ye7r6wAxTtyC",
        "colab_type": "text"
      },
      "source": [
        "## COUNCIL OF JUDGEMENT:\n",
        "\n",
        "Creating a group of ML models which will learn the same analytical understanding with the same architecture but, we will try to train them with different random seeds."
      ]
    },
    {
      "cell_type": "markdown",
      "metadata": {
        "id": "pYVweTXPVol2",
        "colab_type": "text"
      },
      "source": [
        "## UPLOADING DATA:"
      ]
    },
    {
      "cell_type": "code",
      "metadata": {
        "id": "C3qzBYipVqgS",
        "colab_type": "code",
        "colab": {
          "resources": {
            "http://localhost:8080/nbextensions/google.colab/files.js": {
              "data": "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",
              "ok": true,
              "headers": [
                [
                  "content-type",
                  "application/javascript"
                ]
              ],
              "status": 200,
              "status_text": ""
            }
          },
          "base_uri": "https://localhost:8080/",
          "height": 73
        },
        "outputId": "34688b45-fa6a-4107-a5a7-1baa8b2b7ee9"
      },
      "source": [
        "from google.colab import files\n",
        "uploaded = files.upload()"
      ],
      "execution_count": 1,
      "outputs": [
        {
          "output_type": "display_data",
          "data": {
            "text/html": [
              "\n",
              "     <input type=\"file\" id=\"files-1b2e3b1b-cbaf-402f-a96e-247c164d0037\" name=\"files[]\" multiple disabled\n",
              "        style=\"border:none\" />\n",
              "     <output id=\"result-1b2e3b1b-cbaf-402f-a96e-247c164d0037\">\n",
              "      Upload widget is only available when the cell has been executed in the\n",
              "      current browser session. Please rerun this cell to enable.\n",
              "      </output>\n",
              "      <script src=\"/nbextensions/google.colab/files.js\"></script> "
            ],
            "text/plain": [
              "<IPython.core.display.HTML object>"
            ]
          },
          "metadata": {
            "tags": []
          }
        },
        {
          "output_type": "stream",
          "text": [
            "Saving housing.csv to housing.csv\n"
          ],
          "name": "stdout"
        }
      ]
    },
    {
      "cell_type": "markdown",
      "metadata": {
        "id": "JRO-STyEU4lQ",
        "colab_type": "text"
      },
      "source": [
        "## IMPORTS:"
      ]
    },
    {
      "cell_type": "code",
      "metadata": {
        "id": "r-C1qSH6SdIQ",
        "colab_type": "code",
        "colab": {}
      },
      "source": [
        "import tensorflow as tf\n",
        "import pandas as pd\n",
        "import numpy as np\n",
        "from sklearn.preprocessing import StandardScaler\n",
        "from tensorflow.keras import initializers\n",
        "from matplotlib import pyplot as plt"
      ],
      "execution_count": 2,
      "outputs": []
    },
    {
      "cell_type": "markdown",
      "metadata": {
        "id": "jVCnles2W0dS",
        "colab_type": "text"
      },
      "source": [
        "## LOADING THE DATASET:"
      ]
    },
    {
      "cell_type": "code",
      "metadata": {
        "id": "-pifVJV_W2s1",
        "colab_type": "code",
        "colab": {
          "base_uri": "https://localhost:8080/",
          "height": 168
        },
        "outputId": "1bc5ae51-a144-46b0-a03e-5b658cf7be64"
      },
      "source": [
        "data = pd.read_csv('housing.csv')\n",
        "features = data.columns\n",
        "data = data.values\n",
        "print(features)\n",
        "print('data',data.shape,'\\n',data)"
      ],
      "execution_count": 3,
      "outputs": [
        {
          "output_type": "stream",
          "text": [
            "Index(['RM', 'LSTAT', 'PTRATIO', 'MEDV'], dtype='object')\n",
            "data (489, 4) \n",
            " [[6.575e+00 4.980e+00 1.530e+01 5.040e+05]\n",
            " [6.421e+00 9.140e+00 1.780e+01 4.536e+05]\n",
            " [7.185e+00 4.030e+00 1.780e+01 7.287e+05]\n",
            " ...\n",
            " [6.976e+00 5.640e+00 2.100e+01 5.019e+05]\n",
            " [6.794e+00 6.480e+00 2.100e+01 4.620e+05]\n",
            " [6.030e+00 7.880e+00 2.100e+01 2.499e+05]]\n"
          ],
          "name": "stdout"
        }
      ]
    },
    {
      "cell_type": "markdown",
      "metadata": {
        "id": "Q3u1QdR8b3L8",
        "colab_type": "text"
      },
      "source": [
        "## SCALING:"
      ]
    },
    {
      "cell_type": "code",
      "metadata": {
        "id": "58Kb8F1Rb44p",
        "colab_type": "code",
        "colab": {}
      },
      "source": [
        "scaler = StandardScaler()\n",
        "scaler.fit(data)\n",
        "data = scaler.transform(data)"
      ],
      "execution_count": 4,
      "outputs": []
    },
    {
      "cell_type": "markdown",
      "metadata": {
        "id": "64uHhp5Fb9l3",
        "colab_type": "text"
      },
      "source": [
        "## SPLITING TO X and Y"
      ]
    },
    {
      "cell_type": "code",
      "metadata": {
        "id": "rXQOgvAlXIg0",
        "colab_type": "code",
        "colab": {
          "base_uri": "https://localhost:8080/",
          "height": 1000
        },
        "outputId": "6218f88e-6114-4cc8-b2a8-f47cf1a1a8b0"
      },
      "source": [
        "x = data.T[:-1].T\n",
        "y = data.T[-1]\n",
        "\n",
        "print('X', x.shape, '\\n', x)\n",
        "print('Y', y.shape, '\\n', y)"
      ],
      "execution_count": 5,
      "outputs": [
        {
          "output_type": "stream",
          "text": [
            "X (489, 3) \n",
            " [[ 0.52055395 -1.1250769  -1.5250831 ]\n",
            " [ 0.28104837 -0.53706982 -0.33974768]\n",
            " [ 1.46924486 -1.25935736 -0.33974768]\n",
            " ...\n",
            " [ 1.14420158 -1.03178731  1.17748167]\n",
            " [ 0.86114953 -0.91305511  1.17748167]\n",
            " [-0.32704695 -0.71516812  1.17748167]]\n",
            "Y (489,) \n",
            " [ 0.30064004 -0.00449803  1.66104726  1.49576414  1.85175855  0.89820209\n",
            "  0.16078509  0.69477671 -0.65291643 -0.34777836 -0.84362772 -0.34777836\n",
            "  0.00821606 -0.15706706 -0.43677696 -0.2206375   0.18621326 -0.52577556\n",
            " -0.18249524 -0.43677696 -1.02162492 -0.25877975 -0.81819955 -0.90719815\n",
            " -0.7673432  -0.98348267 -0.64020234 -0.86905589 -0.41134879 -0.08078255\n",
            " -1.1360517  -0.90719815 -1.07248127 -1.08519536 -1.03433901 -0.34777836\n",
            " -0.20792341 -0.08078255  0.38963864  1.1651979   1.68647543  0.63120628\n",
            "  0.46592316  0.38963864 -0.05535438 -0.29692201 -0.20792341 -0.64020234\n",
            " -0.91991224 -0.28420793 -0.24606567 -0.14435298  0.4277809   0.22435552\n",
            " -0.34777836  1.75004586  0.38963864  1.26691059  0.21164143 -0.25877975\n",
            " -0.37320653 -0.71648686  0.07178649  0.4277809   1.44490779  0.23706961\n",
            " -0.28420793  0.04635831 -0.53848965 -0.09349663  0.32606821  0.00821606\n",
            "  0.148071    0.22435552  0.31335412 -0.0299262  -0.20792341 -0.10621072\n",
            " -0.05535438 -0.16978115  0.80920348  0.28792595  0.40235273  0.16078509\n",
            "  0.28792595  0.63120628  0.10992875  0.07178649  0.24978369  0.89820209\n",
            "  0.12264283  0.04635831  0.16078509  0.4277809  -0.13163889  0.86005983\n",
            " -0.0299262   2.16961071  2.8180291   1.47033597  0.74563305  0.61849219\n",
            " -0.38592062 -0.29692201 -0.19520932 -0.27149384 -0.27149384 -0.15706706\n",
            " -0.23335158 -0.28420793  0.00821606  0.148071   -0.36049244 -0.37320653\n",
            " -0.3986347  -0.42406287 -0.05535438 -0.3096361  -0.15706706 -0.29692201\n",
            "  0.04635831 -0.16978115 -0.14435298 -0.55120374 -0.36049244 -0.0299262\n",
            " -0.75462911 -0.69105868 -0.46220513 -0.93262632 -0.3096361  -0.25877975\n",
            "  0.17349918 -0.41134879 -0.7673432  -0.44949105 -0.53848965 -0.57663191\n",
            " -1.05976718 -0.48763331 -0.97076858 -0.91991224 -1.0470531  -0.7673432\n",
            " -1.25047848 -0.99619675 -0.7673432  -0.89448406 -0.48763331 -0.79277137\n",
            " -0.01721212 -0.25877975 -0.80548546 -0.28420793 -0.58934599 -0.7673432\n",
            " -1.08519536  2.50017695  0.3387823   0.21164143  0.68206262  0.13535692\n",
            "  0.4277809   0.27521187  0.27521187  0.08450057 -0.53848965 -0.32235018\n",
            "  0.18621326  0.24978369  0.12264283  0.98720069  0.19892735  0.37692455\n",
            "  1.05077112  1.97889941  2.30946565  1.85175855  2.06789802  1.38133736\n",
            "  0.60577811  1.01262886  1.31776693  1.03805704  1.68647543  1.95347124\n",
            "  1.12705564  1.87718672  1.20334016  0.94905843  1.48305005  1.10162747\n",
            "  1.64833317  1.68647543  1.43219371  0.31335412  2.62731781  3.41559115\n",
            "  0.12264283  0.35149638  0.10992875  0.35149638 -0.20792341  0.00821606\n",
            " -0.29692201  0.09721466  0.82191757  0.26249778  0.4277809   0.21164143\n",
            "  0.89820209 -0.01721212  0.17349918  0.64392036  0.00821606  0.74563305\n",
            "  1.07619929  2.94516996  2.02975576  1.26691059  3.1867376   1.2541965\n",
            "  0.3387823   1.27962467  2.55103329  3.39016298  0.93634435  0.30064004\n",
            "  0.44049499  1.2541965   0.26249778  0.21164143  0.04635831 -0.19520932\n",
            "  0.07178649  0.26249778 -0.51306148 -0.3986347   0.3387823  -0.14435298\n",
            "  0.36421047  0.58034993  0.35149638  0.40235273  1.01262886  2.69088824\n",
            "  0.03364423 -0.09349663  2.84345727  1.82633038  1.07619929  1.54662048\n",
            "  2.7290305   3.45373341  1.19062607  1.88990081  0.148071    1.15248381\n",
            "  2.77988684 -0.11892481 -0.06806846  0.45320907  0.35149638  1.72461769\n",
            "  1.36862328  1.31776693  1.47033597  1.45762188  0.94905843  1.7119036\n",
            "  3.02145448  1.75004586  3.097739    1.3431951   0.04635831 -0.19520932\n",
            "  0.19892735  0.08450057  0.40235273  0.87277392  1.9916135   0.7964894\n",
            "  0.28792595  0.00821606  0.885488    0.69477671 -0.16978115  0.10992875\n",
            "  0.93634435  0.40235273  0.04635831  0.60577811  1.45762188  1.83904446\n",
            "  0.86005983  1.49576414  0.83463166  0.148071   -0.16978115 -0.70377277\n",
            "  0.0590724  -0.28420793 -0.00449803  0.27521187 -0.69105868 -0.48763331\n",
            " -0.23335158  0.18621326 -0.08078255  0.27521187  0.18621326 -0.15706706\n",
            " -0.3986347   0.4277809   0.37692455  0.17349918  0.07178649 -0.29692201\n",
            "  0.12264283 -0.23335158 -0.57663191 -0.28420793  0.07178649 -0.11892481\n",
            " -0.06806846 -0.27149384 -0.3986347  -0.13163889 -0.33506427 -0.37320653\n",
            "  1.40676553 -0.65291643  0.28792595  1.21605424 -0.52577556 -0.56391782\n",
            "  0.18621326  0.36421047  0.63120628  0.16078509  0.31335412 -0.38592062\n",
            "  1.07619929 -0.43677696 -0.13163889 -0.48763331  0.00821606  0.13535692\n",
            "  0.12264283  0.4277809  -0.2206375  -0.10621072 -0.61477417  0.74563305\n",
            "  0.03364423  0.18621326 -0.99619675 -0.99619675 -0.84362772 -0.98348267\n",
            " -1.05976718 -1.08519536 -1.45390385 -1.42847568 -1.36490525 -1.31404891\n",
            " -1.18690804 -1.63190106 -1.83532644 -1.4157616  -1.80989827 -1.45390385\n",
            " -1.28862073 -0.83091363  0.19892735 -1.51747429 -0.99619675 -1.1360517\n",
            " -1.08519536 -1.16147987 -1.67004332 -2.11503634 -1.94975322 -2.03875182\n",
            " -1.83532644 -1.21233622 -1.69547149 -1.67004332 -2.11503634 -1.23776439\n",
            "  0.7964894  -0.56391782  0.74563305 -0.84362772 -0.56391782 -0.47491922\n",
            " -0.6783446  -1.86075461 -1.83532644 -1.79718418 -1.42847568 -1.63190106\n",
            " -1.68275741 -0.62748825 -0.94534041 -0.10621072 -1.0470531  -1.26319256\n",
            " -1.69547149 -1.45390385 -1.36490525 -1.35219116 -1.54290246 -0.90719815\n",
            " -0.95805449 -0.70377277 -0.93262632 -1.26319256 -1.0470531  -1.53018837\n",
            " -1.64461515 -1.68275741 -1.12333761 -1.4157616  -0.57663191 -0.41134879\n",
            " -0.79277137 -1.37761934 -1.25047848 -0.8563418  -1.14876579 -0.95805449\n",
            " -1.09790944 -1.0470531  -0.81819955 -0.70377277 -0.48763331 -0.8563418\n",
            " -0.95805449 -1.1360517  -1.03433901 -0.8563418  -0.20792341 -0.66563051\n",
            " -0.50034739 -0.27149384 -0.18249524 -0.0299262  -0.2206375  -0.33506427\n",
            " -0.32235018 -0.32235018 -0.19520932 -0.2206375  -0.25877975  0.19892735\n",
            "  1.03805704 -0.99619675 -1.05976718 -0.62748825 -1.2250503  -0.89448406\n",
            " -0.0299262   0.17349918  0.26249778  0.4277809   0.02093014 -0.13163889\n",
            " -0.05535438 -0.32235018 -0.13163889 -0.81819955 -1.86075461 -1.72089966\n",
            " -1.02162492 -0.19520932  0.02093014  0.36421047  0.18621326 -0.24606567\n",
            " -0.42406287 -0.05535438 -0.52577556 -0.61477417  0.09721466 -0.13163889\n",
            "  0.28792595  0.04635831 -1.23776439]\n"
          ],
          "name": "stdout"
        }
      ]
    },
    {
      "cell_type": "markdown",
      "metadata": {
        "id": "3F3UR69AWrO8",
        "colab_type": "text"
      },
      "source": [
        "## COUNCIL:\n",
        "\n",
        "Now, creating a council of n members and just seeing what happens"
      ]
    },
    {
      "cell_type": "code",
      "metadata": {
        "id": "k0K-sstbWxKz",
        "colab_type": "code",
        "colab": {}
      },
      "source": [
        "class ModelCouncil:\n",
        "  def __init__(self, x, y, shuffle_seed=0, n_members=5):\n",
        "    self.n_members = n_members\n",
        "    self.x = x\n",
        "    self.y = y\n",
        "    self.shuffle_seed = shuffle_seed\n",
        "    self.council_weights = []\n",
        "    self.council_weights_initial = []\n",
        "    self.model = None\n",
        "  \n",
        "  def shuffler(self):\n",
        "    indexes = np.arange(self.x.shape[0])\n",
        "    np.random.seed(self.shuffle_seed)\n",
        "    np.random.shuffle(indexes)\n",
        "    self.x = self.x[indexes]\n",
        "    self.y = self.y[indexes]\n",
        "\n",
        "  def current_model(self, seed):\n",
        "    tf.keras.backend.clear_session()\n",
        "    tf.random.set_seed(seed)\n",
        "    self.model = tf.keras.models.Sequential([\n",
        "                                             tf.keras.layers.Dense(self.x.shape[1]//2+1, activation='relu', input_shape=(self.x.shape[1],), kernel_initializer=initializers.glorot_uniform(seed=seed)),\n",
        "                                             tf.keras.layers.Dense(1, activation='tanh', kernel_initializer=initializers.glorot_uniform(seed=seed))\n",
        "                                    ])\n",
        "    self.model.compile(optimizer='adam', loss='mae', metrics=['mse'])\n",
        "\n",
        "    w_a = []\n",
        "    w_b = []\n",
        "    for layer in self.model.layers:\n",
        "      w_a.append(np.array(layer.get_weights()[0]))\n",
        "      w_b.append(layer.get_weights()[1])\n",
        "    w_a = np.array(w_a)\n",
        "    w_b = np.array(w_b)\n",
        "    self.council_weights_initial.append([w_a, w_b])\n",
        "\n",
        "    self.model.fit(self.x, self.y, epochs=50, verbose=0, validation_split=0.2)\n",
        "\n",
        "    print('Model'+str(seed), self.model.evaluate(self.x, self.y, verbose=0), '\\n')\n",
        "    w_a = []\n",
        "    w_b = []\n",
        "    for layer in self.model.layers:\n",
        "      w_a.append(np.array(layer.get_weights()[0]))\n",
        "      w_b.append(layer.get_weights()[1])\n",
        "    w_a = np.array(w_a)\n",
        "    w_b = np.array(w_b)\n",
        "    self.council_weights.append([w_a, w_b])\n",
        "  \n",
        "  def council(self):\n",
        "    self.shuffler()\n",
        "    for seed in range(self.n_members):\n",
        "      self.current_model(seed)\n",
        "    self.council_weights = np.array(self.council_weights)\n",
        "    self.council_weights_initial = np.array(self.council_weights_initial)\n",
        "    return self.council_weights, self.council_weights_initial\n"
      ],
      "execution_count": 6,
      "outputs": []
    },
    {
      "cell_type": "code",
      "metadata": {
        "id": "m8X7cDM7aMB5",
        "colab_type": "code",
        "colab": {
          "base_uri": "https://localhost:8080/",
          "height": 185
        },
        "outputId": "0090ce41-d0d8-4317-b058-6835865dee02"
      },
      "source": [
        "mc = ModelCouncil(x, y, n_members=5)\n",
        "w, w0 = mc.council()"
      ],
      "execution_count": 7,
      "outputs": [
        {
          "output_type": "stream",
          "text": [
            "Model0 [0.4993721544742584, 0.5078920125961304] \n",
            "\n",
            "Model1 [0.44608092308044434, 0.3789896070957184] \n",
            "\n",
            "Model2 [0.5259357690811157, 0.5126739740371704] \n",
            "\n",
            "Model3 [0.5277985334396362, 0.5002741813659668] \n",
            "\n",
            "Model4 [0.4777299165725708, 0.44870537519454956] \n",
            "\n"
          ],
          "name": "stdout"
        }
      ]
    },
    {
      "cell_type": "code",
      "metadata": {
        "id": "bjwpsGdEaaQw",
        "colab_type": "code",
        "colab": {}
      },
      "source": [
        "weights = w.T[0]\n",
        "bias = w.T[1]\n",
        "\n",
        "weights0 = w0.T[0]\n",
        "bias0 = w0.T[1]"
      ],
      "execution_count": 8,
      "outputs": []
    },
    {
      "cell_type": "code",
      "metadata": {
        "id": "swaxBAQZd1uF",
        "colab_type": "code",
        "colab": {
          "base_uri": "https://localhost:8080/",
          "height": 622
        },
        "outputId": "0a6d3e02-a5f0-4436-8f7a-89c33d35d8cb"
      },
      "source": [
        "print('weights', weights.shape, '\\n',weights)\n",
        "print()\n",
        "print('bias',bias.shape,'\\n', bias)"
      ],
      "execution_count": 9,
      "outputs": [
        {
          "output_type": "stream",
          "text": [
            "weights (2, 5) \n",
            " [[array([[-0.35254797,  0.82100576],\n",
            "       [ 0.8940695 ,  0.18031111],\n",
            "       [ 0.13254352,  0.4463643 ]], dtype=float32)\n",
            "  array([[ 0.94891346, -0.30145943],\n",
            "       [-0.20208144,  0.52801394],\n",
            "       [-0.3899046 ,  0.09911337]], dtype=float32)\n",
            "  array([[ 0.9064774 ,  0.5969177 ],\n",
            "       [-0.06378487,  0.12242074],\n",
            "       [-0.40544918,  0.04231537]], dtype=float32)\n",
            "  array([[-0.63536435,  1.1784456 ],\n",
            "       [ 0.4863884 ,  0.339964  ],\n",
            "       [-0.4271476 , -0.951639  ]], dtype=float32)\n",
            "  array([[ 0.4877965 ,  0.9814446 ],\n",
            "       [-0.8293899 ,  0.23175438],\n",
            "       [-0.11996429, -0.38683578]], dtype=float32)]\n",
            " [array([ 0.40234482, -0.1747629 ], dtype=float32)\n",
            "  array([-0.00596247,  0.21203089], dtype=float32)\n",
            "  array([ 0.09755364, -0.28363907], dtype=float32)\n",
            "  array([ 0.00996569, -0.04290593], dtype=float32)\n",
            "  array([ 0.25017947, -0.3058969 ], dtype=float32)]]\n",
            "\n",
            "bias (2, 5) \n",
            " [[array([[-1.0584335 ],\n",
            "       [ 0.35455352]], dtype=float32)\n",
            "  array([[ 1.0470495],\n",
            "       [-0.5516744]], dtype=float32)\n",
            "  array([[1.0845541],\n",
            "       [0.3160286]], dtype=float32)\n",
            "  array([[-0.8518345],\n",
            "       [ 1.0333056]], dtype=float32)\n",
            "  array([[0.6149181],\n",
            "       [0.8677592]], dtype=float32)]\n",
            " [array([0.28991628], dtype=float32) array([-0.17884147], dtype=float32)\n",
            "  array([-0.32375526], dtype=float32) array([-0.1372016], dtype=float32)\n",
            "  array([-0.42162526], dtype=float32)]]\n"
          ],
          "name": "stdout"
        }
      ]
    },
    {
      "cell_type": "markdown",
      "metadata": {
        "id": "Up0SdoR7i5vF",
        "colab_type": "text"
      },
      "source": [
        "LET US PLOT THESE WEIGHTS:"
      ]
    },
    {
      "cell_type": "code",
      "metadata": {
        "id": "STB0RMnOivSB",
        "colab_type": "code",
        "colab": {
          "base_uri": "https://localhost:8080/",
          "height": 1000
        },
        "outputId": "65077d60-ff41-4f73-cd6c-8322a7708d7a"
      },
      "source": [
        "for layer_w, layer_b, layer_w0, layer_b0  in zip(weights, bias, weights0, bias0):\n",
        "  for member, b, member0, b0 in zip(layer_w, layer_b, layer_w0, layer_b0):\n",
        "    try:\n",
        "      _ = member.shape[1]\n",
        "    except:\n",
        "      member = np.array([member])\n",
        "      member0 = np.array([member0])\n",
        "    print('Initial')\n",
        "    print(member0,'\\t', b0.flatten())\n",
        "    plt.imshow(member0, cmap=plt.get_cmap('hot'), interpolation=None,\n",
        "               vmin=0, vmax=1)\n",
        "    print('After')\n",
        "    print(member,'\\t', b.flatten())\n",
        "    print()\n",
        "    plt.pause(0.1)\n",
        "    plt.imshow(member, cmap=plt.get_cmap('hot'), interpolation=None,\n",
        "               vmin=0, vmax=1)\n",
        "    plt.pause(0.1)\n",
        "    print()\n"
      ],
      "execution_count": 10,
      "outputs": [
        {
          "output_type": "stream",
          "text": [
            "Initial\n",
            "[[-0.6331334   0.45134532]\n",
            " [ 0.657406    0.59327614]\n",
            " [-0.24409002  0.81141686]] \t [-0.81737167  0.58268416]\n",
            "After\n",
            "[[-0.35254797  0.82100576]\n",
            " [ 0.8940695   0.18031111]\n",
            " [ 0.13254352  0.4463643 ]] \t [-1.0584335   0.35455352]\n",
            "\n"
          ],
          "name": "stdout"
        },
        {
          "output_type": "display_data",
          "data": {
            "image/png": "[encoded data removed]",
            "text/plain": [
              "<Figure size 432x288 with 1 Axes>"
            ]
          },
          "metadata": {
            "tags": [],
            "needs_background": "light"
          }
        },
        {
          "output_type": "display_data",
          "data": {
            "image/png": "[encoded data removed]",
            "text/plain": [
              "<Figure size 432x288 with 1 Axes>"
            ]
          },
          "metadata": {
            "tags": [],
            "needs_background": "light"
          }
        },
        {
          "output_type": "stream",
          "text": [
            "\n",
            "Initial\n",
            "[[ 0.82922614 -0.08767891]\n",
            " [ 0.21972716 -0.23530674]\n",
            " [-0.5407265  -0.12203431]] \t [ 1.0705262  -0.11319292]\n",
            "After\n",
            "[[ 0.94891346 -0.30145943]\n",
            " [-0.20208144  0.52801394]\n",
            " [-0.3899046   0.09911337]] \t [ 1.0470495 -0.5516744]\n",
            "\n"
          ],
          "name": "stdout"
        },
        {
          "output_type": "display_data",
          "data": {
            "image/png": "[encoded data removed]",
            "text/plain": [
              "<Figure size 432x288 with 1 Axes>"
            ]
          },
          "metadata": {
            "tags": [],
            "needs_background": "light"
          }
        },
        {
          "output_type": "display_data",
          "data": {
            "image/png": "[encoded data removed]",
            "text/plain": [
              "<Figure size 432x288 with 1 Axes>"
            ]
          },
          "metadata": {
            "tags": [],
            "needs_background": "light"
          }
        },
        {
          "output_type": "stream",
          "text": [
            "\n",
            "Initial\n",
            "[[ 0.659412    0.44851208]\n",
            " [ 0.43199587  0.47018325]\n",
            " [-0.19903636  0.36630118]] \t [0.85129726 0.5790266 ]\n",
            "After\n",
            "[[ 0.9064774   0.5969177 ]\n",
            " [-0.06378487  0.12242074]\n",
            " [-0.40544918  0.04231537]] \t [1.0845541 0.3160286]\n",
            "\n"
          ],
          "name": "stdout"
        },
        {
          "output_type": "display_data",
          "data": {
            "image/png": "[encoded data removed]",
            "text/plain": [
              "<Figure size 432x288 with 1 Axes>"
            ]
          },
          "metadata": {
            "tags": [],
            "needs_background": "light"
          }
        },
        {
          "output_type": "display_data",
          "data": {
            "image/png": "[encoded data removed]",
            "text/plain": [
              "<Figure size 432x288 with 1 Axes>"
            ]
          },
          "metadata": {
            "tags": [],
            "needs_background": "light"
          }
        },
        {
          "output_type": "stream",
          "text": [
            "\n",
            "Initial\n",
            "[[-0.6662216   0.9625573 ]\n",
            " [ 0.07071137  0.74718416]\n",
            " [-0.69492495 -0.83491707]] \t [-0.86008835  1.2426559 ]\n",
            "After\n",
            "[[-0.63536435  1.1784456 ]\n",
            " [ 0.4863884   0.339964  ]\n",
            " [-0.4271476  -0.951639  ]] \t [-0.8518345  1.0333056]\n",
            "\n"
          ],
          "name": "stdout"
        },
        {
          "output_type": "display_data",
          "data": {
            "image/png": "[encoded data removed]",
            "text/plain": [
              "<Figure size 432x288 with 1 Axes>"
            ]
          },
          "metadata": {
            "tags": [],
            "needs_background": "light"
          }
        },
        {
          "output_type": "display_data",
          "data": {
            "image/png": "[encoded data removed]",
            "text/plain": [
              "<Figure size 432x288 with 1 Axes>"
            ]
          },
          "metadata": {
            "tags": [],
            "needs_background": "light"
          }
        },
        {
          "output_type": "stream",
          "text": [
            "\n",
            "Initial\n",
            "[[ 0.1765809   0.8890387 ]\n",
            " [-0.46525514  0.59153664]\n",
            " [ 0.10605359 -0.22729391]] \t [0.22796488 1.147744  ]\n",
            "After\n",
            "[[ 0.4877965   0.9814446 ]\n",
            " [-0.8293899   0.23175438]\n",
            " [-0.11996429 -0.38683578]] \t [0.6149181 0.8677592]\n",
            "\n"
          ],
          "name": "stdout"
        },
        {
          "output_type": "display_data",
          "data": {
            "image/png": "[encoded data removed]",
            "text/plain": [
              "<Figure size 432x288 with 1 Axes>"
            ]
          },
          "metadata": {
            "tags": [],
            "needs_background": "light"
          }
        },
        {
          "output_type": "display_data",
          "data": {
            "image/png": "[encoded data removed]",
            "text/plain": [
              "<Figure size 432x288 with 1 Axes>"
            ]
          },
          "metadata": {
            "tags": [],
            "needs_background": "light"
          }
        },
        {
          "output_type": "stream",
          "text": [
            "\n",
            "Initial\n",
            "[[0. 0.]] \t [0.]\n",
            "After\n",
            "[[ 0.40234482 -0.1747629 ]] \t [0.28991628]\n",
            "\n"
          ],
          "name": "stdout"
        },
        {
          "output_type": "display_data",
          "data": {
            "image/png": "[encoded data removed]",
            "text/plain": [
              "<Figure size 432x288 with 1 Axes>"
            ]
          },
          "metadata": {
            "tags": [],
            "needs_background": "light"
          }
        },
        {
          "output_type": "display_data",
          "data": {
            "image/png": "[encoded data removed]",
            "text/plain": [
              "<Figure size 432x288 with 1 Axes>"
            ]
          },
          "metadata": {
            "tags": [],
            "needs_background": "light"
          }
        },
        {
          "output_type": "stream",
          "text": [
            "\n",
            "Initial\n",
            "[[0. 0.]] \t [0.]\n",
            "After\n",
            "[[-0.00596247  0.21203089]] \t [-0.17884147]\n",
            "\n"
          ],
          "name": "stdout"
        },
        {
          "output_type": "display_data",
          "data": {
            "image/png": "[encoded data removed]",
            "text/plain": [
              "<Figure size 432x288 with 1 Axes>"
            ]
          },
          "metadata": {
            "tags": [],
            "needs_background": "light"
          }
        },
        {
          "output_type": "display_data",
          "data": {
            "image/png": "[encoded data removed]",
            "text/plain": [
              "<Figure size 432x288 with 1 Axes>"
            ]
          },
          "metadata": {
            "tags": [],
            "needs_background": "light"
          }
        },
        {
          "output_type": "stream",
          "text": [
            "\n",
            "Initial\n",
            "[[0. 0.]] \t [0.]\n",
            "After\n",
            "[[ 0.09755364 -0.28363907]] \t [-0.32375526]\n",
            "\n"
          ],
          "name": "stdout"
        },
        {
          "output_type": "display_data",
          "data": {
            "image/png": "[encoded data removed]",
            "text/plain": [
              "<Figure size 432x288 with 1 Axes>"
            ]
          },
          "metadata": {
            "tags": [],
            "needs_background": "light"
          }
        },
        {
          "output_type": "display_data",
          "data": {
            "image/png": "[encoded data removed]",
            "text/plain": [
              "<Figure size 432x288 with 1 Axes>"
            ]
          },
          "metadata": {
            "tags": [],
            "needs_background": "light"
          }
        },
        {
          "output_type": "stream",
          "text": [
            "\n",
            "Initial\n",
            "[[0. 0.]] \t [0.]\n",
            "After\n",
            "[[ 0.00996569 -0.04290593]] \t [-0.1372016]\n",
            "\n"
          ],
          "name": "stdout"
        },
        {
          "output_type": "display_data",
          "data": {
            "image/png": "[encoded data removed]",
            "text/plain": [
              "<Figure size 432x288 with 1 Axes>"
            ]
          },
          "metadata": {
            "tags": [],
            "needs_background": "light"
          }
        },
        {
          "output_type": "display_data",
          "data": {
            "image/png": "[encoded data removed]",
            "text/plain": [
              "<Figure size 432x288 with 1 Axes>"
            ]
          },
          "metadata": {
            "tags": [],
            "needs_background": "light"
          }
        },
        {
          "output_type": "stream",
          "text": [
            "\n",
            "Initial\n",
            "[[0. 0.]] \t [0.]\n",
            "After\n",
            "[[ 0.25017947 -0.3058969 ]] \t [-0.42162526]\n",
            "\n"
          ],
          "name": "stdout"
        },
        {
          "output_type": "display_data",
          "data": {
            "image/png": "[encoded data removed]",
            "text/plain": [
              "<Figure size 432x288 with 1 Axes>"
            ]
          },
          "metadata": {
            "tags": [],
            "needs_background": "light"
          }
        },
        {
          "output_type": "display_data",
          "data": {
            "image/png": "[encoded data removed]",
            "text/plain": [
              "<Figure size 432x288 with 1 Axes>"
            ]
          },
          "metadata": {
            "tags": [],
            "needs_background": "light"
          }
        },
        {
          "output_type": "stream",
          "text": [
            "\n"
          ],
          "name": "stdout"
        }
      ]
    },
    {
      "cell_type": "markdown",
      "metadata": {
        "id": "x2dBwsrooBlT",
        "colab_type": "text"
      },
      "source": [
        "The above images and their respective results give us a little bit of an insight into how weight initialization affects the final weights"
      ]
    },
    {
      "cell_type": "code",
      "metadata": {
        "id": "KEna8n70jNY8",
        "colab_type": "code",
        "colab": {}
      },
      "source": [
        ""
      ],
      "execution_count": 10,
      "outputs": []
    }
  ]
}