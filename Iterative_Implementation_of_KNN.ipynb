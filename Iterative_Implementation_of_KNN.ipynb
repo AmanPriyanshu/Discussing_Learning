{
  "nbformat": 4,
  "nbformat_minor": 0,
  "metadata": {
    "colab": {
      "name": "Iterative Implementation of KNN.ipynb",
      "provenance": [],
      "authorship_tag": "ABX9TyMQuvan3U2Y92N+bLTHkBWA",
      "include_colab_link": true
    },
    "kernelspec": {
      "name": "python3",
      "display_name": "Python 3"
    }
  },
  "cells": [
    {
      "cell_type": "markdown",
      "metadata": {
        "id": "view-in-github",
        "colab_type": "text"
      },
      "source": [
        "<a href=\"https://colab.research.google.com/github/AmanPriyanshu/Discussing_Learning/blob/master/Iterative_Implementation_of_KNN.ipynb\" target=\"_parent\"><img src=\"https://colab.research.google.com/assets/colab-badge.svg\" alt=\"Open In Colab\"/></a>"
      ]
    },
    {
      "cell_type": "markdown",
      "metadata": {
        "id": "gVyHayqrMzzR",
        "colab_type": "text"
      },
      "source": [
        "## INTRODUCTION:\n",
        "KNN is one of the most useful Classification Algorithms. It has a simple method and learns veru well for a certain cases, however, its implementation in regression too isn't lacking. Here, we will introduce a step-up to the already present regression method in KNN."
      ]
    },
    {
      "cell_type": "markdown",
      "metadata": {
        "id": "QMVmC463NjLE",
        "colab_type": "text"
      },
      "source": [
        "## UPLOADING DATASET:"
      ]
    },
    {
      "cell_type": "code",
      "metadata": {
        "id": "W4a4J00IMgT-",
        "colab_type": "code",
        "colab": {
          "resources": {
            "http://localhost:8080/nbextensions/google.colab/files.js": {
              "data": "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",
              "ok": true,
              "headers": [
                [
                  "content-type",
                  "application/javascript"
                ]
              ],
              "status": 200,
              "status_text": ""
            }
          },
          "base_uri": "https://localhost:8080/",
          "height": 73
        },
        "outputId": "e1e94f93-7b53-4a03-a7d6-f477632898c6"
      },
      "source": [
        "from google.colab import files\n",
        "uploaded = files.upload()"
      ],
      "execution_count": 1,
      "outputs": [
        {
          "output_type": "display_data",
          "data": {
            "text/html": [
              "\n",
              "     <input type=\"file\" id=\"files-a79959a4-5c46-4d3b-815e-56c0074d4326\" name=\"files[]\" multiple disabled\n",
              "        style=\"border:none\" />\n",
              "     <output id=\"result-a79959a4-5c46-4d3b-815e-56c0074d4326\">\n",
              "      Upload widget is only available when the cell has been executed in the\n",
              "      current browser session. Please rerun this cell to enable.\n",
              "      </output>\n",
              "      <script src=\"/nbextensions/google.colab/files.js\"></script> "
            ],
            "text/plain": [
              "<IPython.core.display.HTML object>"
            ]
          },
          "metadata": {
            "tags": []
          }
        },
        {
          "output_type": "stream",
          "text": [
            "Saving housing.csv to housing.csv\n"
          ],
          "name": "stdout"
        }
      ]
    },
    {
      "cell_type": "markdown",
      "metadata": {
        "id": "puORvorNOFQo",
        "colab_type": "text"
      },
      "source": [
        "## IMPORTS:"
      ]
    },
    {
      "cell_type": "code",
      "metadata": {
        "id": "FKZsoQ_aN_Zn",
        "colab_type": "code",
        "colab": {}
      },
      "source": [
        "import pandas as pd\n",
        "import numpy as np\n",
        "import math\n",
        "from sklearn.preprocessing import StandardScaler\n",
        "import tensorflow as tf\n",
        "import random\n",
        "from tqdm import tqdm\n",
        "from matplotlib import pyplot as plt"
      ],
      "execution_count": 2,
      "outputs": []
    },
    {
      "cell_type": "markdown",
      "metadata": {
        "id": "5r06q19POPmT",
        "colab_type": "text"
      },
      "source": [
        "## LOADING DATASET:"
      ]
    },
    {
      "cell_type": "code",
      "metadata": {
        "id": "xrkUZC75ONbz",
        "colab_type": "code",
        "colab": {
          "base_uri": "https://localhost:8080/",
          "height": 168
        },
        "outputId": "f455b12d-e9ac-426d-d1d3-3cf6acc822b2"
      },
      "source": [
        "data = pd.read_csv('housing.csv')\n",
        "features = data.columns\n",
        "data = data.values\n",
        "print(features)\n",
        "print('data',data.shape,'\\n',data)"
      ],
      "execution_count": 3,
      "outputs": [
        {
          "output_type": "stream",
          "text": [
            "Index(['RM', 'LSTAT', 'PTRATIO', 'MEDV'], dtype='object')\n",
            "data (489, 4) \n",
            " [[6.575e+00 4.980e+00 1.530e+01 5.040e+05]\n",
            " [6.421e+00 9.140e+00 1.780e+01 4.536e+05]\n",
            " [7.185e+00 4.030e+00 1.780e+01 7.287e+05]\n",
            " ...\n",
            " [6.976e+00 5.640e+00 2.100e+01 5.019e+05]\n",
            " [6.794e+00 6.480e+00 2.100e+01 4.620e+05]\n",
            " [6.030e+00 7.880e+00 2.100e+01 2.499e+05]]\n"
          ],
          "name": "stdout"
        }
      ]
    },
    {
      "cell_type": "markdown",
      "metadata": {
        "id": "OGMGfNa3OliU",
        "colab_type": "text"
      },
      "source": [
        "## SCALING:"
      ]
    },
    {
      "cell_type": "code",
      "metadata": {
        "id": "jH00LZGcOUz0",
        "colab_type": "code",
        "colab": {}
      },
      "source": [
        "scaler = StandardScaler()\n",
        "scaler.fit(data)\n",
        "data = scaler.transform(data)"
      ],
      "execution_count": 4,
      "outputs": []
    },
    {
      "cell_type": "markdown",
      "metadata": {
        "id": "zGsDYb2AOphN",
        "colab_type": "text"
      },
      "source": [
        "## SPLITING TO X and Y"
      ]
    },
    {
      "cell_type": "code",
      "metadata": {
        "id": "GdaTtJsdOo_o",
        "colab_type": "code",
        "colab": {
          "base_uri": "https://localhost:8080/",
          "height": 202
        },
        "outputId": "0f3ae8e5-bb0b-486a-83fc-193ebf94f8a9"
      },
      "source": [
        "x = data.T[:-1].T\n",
        "y = data.T[-1]\n",
        "\n",
        "print('X', x.shape, '\\n', x)\n",
        "print('Y', y.shape, '\\n', y[:10])"
      ],
      "execution_count": 5,
      "outputs": [
        {
          "output_type": "stream",
          "text": [
            "X (489, 3) \n",
            " [[ 0.52055395 -1.1250769  -1.5250831 ]\n",
            " [ 0.28104837 -0.53706982 -0.33974768]\n",
            " [ 1.46924486 -1.25935736 -0.33974768]\n",
            " ...\n",
            " [ 1.14420158 -1.03178731  1.17748167]\n",
            " [ 0.86114953 -0.91305511  1.17748167]\n",
            " [-0.32704695 -0.71516812  1.17748167]]\n",
            "Y (489,) \n",
            " [ 0.30064004 -0.00449803  1.66104726  1.49576414  1.85175855  0.89820209\n",
            "  0.16078509  0.69477671 -0.65291643 -0.34777836]\n"
          ],
          "name": "stdout"
        }
      ]
    },
    {
      "cell_type": "markdown",
      "metadata": {
        "id": "8geBHU7KOyCa",
        "colab_type": "text"
      },
      "source": [
        "## ITERATIVE KNN REGRESSION:"
      ]
    },
    {
      "cell_type": "code",
      "metadata": {
        "id": "NfLZ6FvaOuoO",
        "colab_type": "code",
        "colab": {}
      },
      "source": [
        "class IterKnnRegression:\n",
        "  def __init__(self, x, y, k_neighbours, max_iter=1e1, epsilon=1e-3, use_corr=True):\n",
        "    self.x = x\n",
        "    self.y = y\n",
        "    self.k_neighbours = k_neighbours\n",
        "    self.x_current = x\n",
        "    self.y_current = y\n",
        "    self.correlations = []\n",
        "    self.use_corr = use_corr\n",
        "    self.epsilon = epsilon\n",
        "    self.max_iter = max_iter\n",
        "\n",
        "  def correlation_coeff_per_feature(self):\n",
        "    for feature in self.x.T:\n",
        "      corr = np.sum( (feature - np.mean(feature)) * (self.y - np.mean(self.y)) )/(np.sqrt(np.sum(np.square( feature - np.mean(feature) ) ) * np.sum(np.square( self.y - np.mean(self.y) ) ) ))\n",
        "      self.correlations.append(corr)\n",
        "\n",
        "  def predict_once(self, predict_x):\n",
        "    \n",
        "    if self.use_corr == True:\n",
        "      distances = np.array([np.sum(np.square(x - predict_x) * np.array(np.square(self.correlations))) for x in self.x_current])\n",
        "    else:\n",
        "      distances = np.array([np.sum(np.square(x - predict_x)) for x in self.x_current])\n",
        "    \n",
        "    sorted_index = np.argsort(distances)\n",
        "    dist = distances[sorted_index][0]\n",
        "    if dist<=self.epsilon:\n",
        "      completed = True\n",
        "    else:\n",
        "      completed = False\n",
        "    x_nearest = self.x_current[sorted_index][:self.k_neighbours]\n",
        "    y_nearest = self.y_current[sorted_index][:self.k_neighbours]\n",
        "    x_regressed = np.array([np.mean(x_nearest, axis=0)])\n",
        "    y_regressed = np.mean(y_nearest)\n",
        "    \n",
        "    x_current_new = np.concatenate([self.x_current, x_regressed])\n",
        "    y_current_new = np.concatenate([self.y_current, np.array([y_regressed])])\n",
        "    \n",
        "    return x_current_new, y_current_new, completed\n",
        "\n",
        "  def predict(self, predict_x):\n",
        "    \n",
        "    if self.use_corr == True:\n",
        "      distances = np.array([np.sum(np.square(x - predict_x) * np.array(np.square(self.correlations))) for x in self.x_current])\n",
        "    else:\n",
        "      distances = np.array([np.sum(np.square(x - predict_x)) for x in self.x_current])\n",
        "    \n",
        "    sorted_index = np.argsort(distances)\n",
        "    dist = distances[sorted_index][0]\n",
        "    if dist<=self.epsilon:\n",
        "      completed = True\n",
        "    else:\n",
        "      completed = False\n",
        "    x_nearest = self.x_current[sorted_index][:self.k_neighbours]\n",
        "    y_nearest = self.y_current[sorted_index][:self.k_neighbours]\n",
        "    x_regressed = np.array([np.mean(x_nearest, axis=0)])\n",
        "    y_regressed = np.mean(y_nearest)\n",
        "    return y_regressed\n",
        "\n",
        "  def iterator(self, predict_x, cont=False):\n",
        "    if cont == False:\n",
        "      self.correlation_coeff_per_feature()\n",
        "    for iteration in range(int(self.max_iter)):\n",
        "      x_current_new, y_current_new, completed = self.predict_once(predict_x)\n",
        "      self.x_current = x_current_new\n",
        "      self.y_current = y_current_new\n",
        "      if completed:\n",
        "        break\n",
        "    return self.predict(predict_x)\n",
        "  \n",
        "  def predict_continuous(self, cont_x):\n",
        "    self.correlation_coeff_per_feature()\n",
        "    cont_y = []\n",
        "    for X in tqdm(cont_x):\n",
        "      pred = self.iterator(X, cont=True)\n",
        "      cont_y.append(pred)\n",
        "      self.x_current = self.x\n",
        "      self.y_current = self.y\n",
        "    cont_y = np.array(cont_y)\n",
        "    return cont_y\n",
        "\n"
      ],
      "execution_count": 6,
      "outputs": []
    },
    {
      "cell_type": "code",
      "metadata": {
        "id": "tlzfLOiQSmvB",
        "colab_type": "code",
        "colab": {}
      },
      "source": [
        "ikr = IterKnnRegression(x, y, 5, use_corr=True)\n",
        "y_pred0 = ikr.iterator(x[0])\n",
        "\n",
        "ikr = IterKnnRegression(x, y, 5, use_corr=False)\n",
        "y_pred1 = ikr.iterator(x[0])"
      ],
      "execution_count": 7,
      "outputs": []
    },
    {
      "cell_type": "markdown",
      "metadata": {
        "id": "VZfegeV_WmF2",
        "colab_type": "text"
      },
      "source": [
        "LET US TAKE A LOOK AT THE ORIGINAL VALUE v/s THE NEW ONES WE PREDICTED"
      ]
    },
    {
      "cell_type": "code",
      "metadata": {
        "id": "LBByXH2USw91",
        "colab_type": "code",
        "colab": {
          "base_uri": "https://localhost:8080/",
          "height": 67
        },
        "outputId": "6d8404fa-0296-4e2d-b321-689819de2daa"
      },
      "source": [
        "original_data = np.array([np.concatenate([x[0], np.array([y[0]])])])\n",
        "print(scaler.inverse_transform(original_data))\n",
        "\n",
        "pred_data = np.array([np.concatenate([x[0], np.array([y_pred0])])])\n",
        "print(scaler.inverse_transform(pred_data))\n",
        "\n",
        "pred_data = np.array([np.concatenate([x[0], np.array([y_pred1])])])\n",
        "print(scaler.inverse_transform(pred_data))"
      ],
      "execution_count": 8,
      "outputs": [
        {
          "output_type": "stream",
          "text": [
            "[[6.575e+00 4.980e+00 1.530e+01 5.040e+05]]\n",
            "[[6.5750e+00 4.9800e+00 1.5300e+01 5.9556e+05]]\n",
            "[[6.5750e+00 4.9800e+00 1.5300e+01 5.9766e+05]]\n"
          ],
          "name": "stdout"
        }
      ]
    },
    {
      "cell_type": "markdown",
      "metadata": {
        "id": "RJfnJxBNdf2q",
        "colab_type": "text"
      },
      "source": [
        "LET US TRAIN AND VALIDATE WITH 80:20 split"
      ]
    },
    {
      "cell_type": "code",
      "metadata": {
        "id": "MwdI_z8hYjbH",
        "colab_type": "code",
        "colab": {
          "base_uri": "https://localhost:8080/",
          "height": 34
        },
        "outputId": "6d61e2e7-4261-4ce8-ae13-0a5f1142442f"
      },
      "source": [
        "x_train = x[:int(0.8*x.shape[0])]\n",
        "x_test = x[int(0.8*x.shape[0]):]\n",
        "\n",
        "y_train = y[:int(0.8*x.shape[0])]\n",
        "y_test = y[int(0.8*x.shape[0]):]\n",
        "\n",
        "print(x_test[0].shape)"
      ],
      "execution_count": 9,
      "outputs": [
        {
          "output_type": "stream",
          "text": [
            "(3,)\n"
          ],
          "name": "stdout"
        }
      ]
    },
    {
      "cell_type": "code",
      "metadata": {
        "id": "tp-uQA55eCT2",
        "colab_type": "code",
        "colab": {
          "base_uri": "https://localhost:8080/",
          "height": 34
        },
        "outputId": "82fbe5e3-cbdf-4445-c6f5-e4747669840b"
      },
      "source": [
        "ikr = IterKnnRegression(x_train, y_train, 5, use_corr=True)\n",
        "y_test_pred = ikr.predict_continuous(x_test)"
      ],
      "execution_count": 10,
      "outputs": [
        {
          "output_type": "stream",
          "text": [
            "100%|██████████| 98/98 [00:05<00:00, 17.14it/s]\n"
          ],
          "name": "stderr"
        }
      ]
    },
    {
      "cell_type": "code",
      "metadata": {
        "id": "JdHY6xFIeeEt",
        "colab_type": "code",
        "colab": {
          "base_uri": "https://localhost:8080/",
          "height": 34
        },
        "outputId": "ba246e1c-090f-4f22-ad9e-810ce039cb10"
      },
      "source": [
        "mae = np.mean(np.abs(y_test - y_test_pred))\n",
        "print('MEAN ABSOLUTE ERROR',mae)"
      ],
      "execution_count": 11,
      "outputs": [
        {
          "output_type": "stream",
          "text": [
            "MEAN ABSOLUTE ERROR 0.3858647854121595\n"
          ],
          "name": "stdout"
        }
      ]
    },
    {
      "cell_type": "markdown",
      "metadata": {
        "id": "Z6hCH2IXj_qb",
        "colab_type": "text"
      },
      "source": [
        "## COMPARISON:\n",
        "\n",
        "Comparing with a simple ANN model."
      ]
    },
    {
      "cell_type": "code",
      "metadata": {
        "id": "ddi-qOBqi3fF",
        "colab_type": "code",
        "colab": {
          "base_uri": "https://localhost:8080/",
          "height": 50
        },
        "outputId": "b5ad0562-e87a-4d8e-9c16-4d99b1646fd3"
      },
      "source": [
        "model = tf.keras.models.Sequential([\n",
        "                                    tf.keras.layers.Dense(x_train.shape[1]//2, activation='relu', input_shape=(x_train.shape[1],)),\n",
        "                                    tf.keras.layers.Dense(1, activation='linear')\n",
        "                                    ])\n",
        "model.compile(optimizer='adam', loss='mae')\n",
        "model.fit(x_train, y_train, epochs=1000, verbose=0)\n",
        "model.evaluate(x_test, y_test)"
      ],
      "execution_count": 12,
      "outputs": [
        {
          "output_type": "stream",
          "text": [
            "4/4 [==============================] - 0s 3ms/step - loss: 0.5093\n"
          ],
          "name": "stdout"
        },
        {
          "output_type": "execute_result",
          "data": {
            "text/plain": [
              "0.5092971920967102"
            ]
          },
          "metadata": {
            "tags": []
          },
          "execution_count": 12
        }
      ]
    },
    {
      "cell_type": "markdown",
      "metadata": {
        "id": "RbnrfbXlkFW_",
        "colab_type": "text"
      },
      "source": [
        "## PLOTTING COMPARISON:\n",
        "\n",
        "Let us create a 2-D dataset mapping over say y = 10 * x + 15 + error, we will predict values using both Iterative KNN Regression Model and Linear Regression"
      ]
    },
    {
      "cell_type": "markdown",
      "metadata": {
        "id": "xFME3FRSkZi5",
        "colab_type": "text"
      },
      "source": [
        "### DATA CREATION:"
      ]
    },
    {
      "cell_type": "code",
      "metadata": {
        "id": "NRJZLAJdjvpG",
        "colab_type": "code",
        "colab": {
          "base_uri": "https://localhost:8080/",
          "height": 218
        },
        "outputId": "92ea5c1d-5ac1-4fe3-bd0b-857d3c9ec956"
      },
      "source": [
        "y = np.array([10*(i/4)+15+random.random()*1000 for i in range(-2000, 2000)])\n",
        "x = np.array([[i/4] for i in range(-2000, 2000)])\n",
        "\n",
        "indexes = np.arange(y.shape[0])\n",
        "np.random.shuffle(indexes)\n",
        "x = x[indexes]\n",
        "y = y[indexes]\n",
        "\n",
        "print('X', x.shape, '\\n', x)\n",
        "print()\n",
        "print('Y', y.shape, '\\n', y)"
      ],
      "execution_count": 13,
      "outputs": [
        {
          "output_type": "stream",
          "text": [
            "X (4000, 1) \n",
            " [[ 147.75]\n",
            " [-388.5 ]\n",
            " [ 399.  ]\n",
            " ...\n",
            " [ -78.25]\n",
            " [  -4.  ]\n",
            " [ 146.75]]\n",
            "\n",
            "Y (4000,) \n",
            " [ 1545.67434789 -3074.84514199  4467.30188191 ...  -347.12212958\n",
            "   535.18148701  1560.93710571]\n"
          ],
          "name": "stdout"
        }
      ]
    },
    {
      "cell_type": "markdown",
      "metadata": {
        "id": "-OTmrz5srFNE",
        "colab_type": "text"
      },
      "source": [
        "## SPLITTING INTO TEST AND TRAIN:"
      ]
    },
    {
      "cell_type": "code",
      "metadata": {
        "id": "2TOyaTbyrH28",
        "colab_type": "code",
        "colab": {
          "base_uri": "https://localhost:8080/",
          "height": 34
        },
        "outputId": "47c10d0c-7e68-4cf0-9460-a9c4406300a8"
      },
      "source": [
        "x_train = x[:int(0.8*x.shape[0])]\n",
        "x_test = x[int(0.8*x.shape[0]):]\n",
        "\n",
        "y_train = y[:int(0.8*x.shape[0])]\n",
        "y_test = y[int(0.8*x.shape[0]):]\n",
        "\n",
        "print(x_test.shape)"
      ],
      "execution_count": 14,
      "outputs": [
        {
          "output_type": "stream",
          "text": [
            "(800, 1)\n"
          ],
          "name": "stdout"
        }
      ]
    },
    {
      "cell_type": "markdown",
      "metadata": {
        "id": "P7xUfuH2rCi-",
        "colab_type": "text"
      },
      "source": [
        "## IMPLEMENTING LINEAR:"
      ]
    },
    {
      "cell_type": "code",
      "metadata": {
        "id": "byOhKe_PneNT",
        "colab_type": "code",
        "colab": {
          "base_uri": "https://localhost:8080/",
          "height": 50
        },
        "outputId": "529126b3-2554-4211-b820-39d2ffdc5252"
      },
      "source": [
        "model = tf.keras.models.Sequential([\n",
        "                                    tf.keras.layers.Dense(1, activation='linear', input_shape=(x_train.shape[1],))\n",
        "                                  ])\n",
        "model.compile(optimizer='adam', loss='mae')\n",
        "model.fit(x_train, y_train, epochs=1000, verbose=0)\n",
        "model.evaluate(x_test, y_test)"
      ],
      "execution_count": 15,
      "outputs": [
        {
          "output_type": "stream",
          "text": [
            "25/25 [==============================] - 0s 1ms/step - loss: 415.4731\n"
          ],
          "name": "stdout"
        },
        {
          "output_type": "execute_result",
          "data": {
            "text/plain": [
              "415.4730529785156"
            ]
          },
          "metadata": {
            "tags": []
          },
          "execution_count": 15
        }
      ]
    },
    {
      "cell_type": "code",
      "metadata": {
        "id": "fdqR52zyt_eO",
        "colab_type": "code",
        "colab": {}
      },
      "source": [
        "y_test_pred_linear = model.predict(x_test)"
      ],
      "execution_count": 16,
      "outputs": []
    },
    {
      "cell_type": "markdown",
      "metadata": {
        "id": "E81f00f_sInS",
        "colab_type": "text"
      },
      "source": [
        "## IMPLEMENTING Iterative-KNN-Regression"
      ]
    },
    {
      "cell_type": "code",
      "metadata": {
        "id": "IzJiMBF4rY99",
        "colab_type": "code",
        "colab": {
          "base_uri": "https://localhost:8080/",
          "height": 67
        },
        "outputId": "3f16117c-eef4-452e-e0d1-0573610fe21b"
      },
      "source": [
        "ikr = IterKnnRegression(x_train, y_train, 5, use_corr=True)\n",
        "y_test_pred_ikr = ikr.predict_continuous(x_test)\n",
        "\n",
        "mae = np.mean(np.abs(y_test - y_test_pred_ikr))\n",
        "print()\n",
        "print('MEAN ABSOLUTE ERROR',mae)"
      ],
      "execution_count": 17,
      "outputs": [
        {
          "output_type": "stream",
          "text": [
            "100%|██████████| 800/800 [03:35<00:00,  3.71it/s]"
          ],
          "name": "stderr"
        },
        {
          "output_type": "stream",
          "text": [
            "\n",
            "MEAN ABSOLUTE ERROR 268.15552016491694\n"
          ],
          "name": "stdout"
        },
        {
          "output_type": "stream",
          "text": [
            "\n"
          ],
          "name": "stderr"
        }
      ]
    },
    {
      "cell_type": "markdown",
      "metadata": {
        "id": "Yb3o_wfavTZ9",
        "colab_type": "text"
      },
      "source": [
        "## PLOTTING ALL THREE:"
      ]
    },
    {
      "cell_type": "code",
      "metadata": {
        "id": "Dp5fpkoh5FId",
        "colab_type": "code",
        "colab": {}
      },
      "source": [
        "indexes = np.argsort(x_test.flatten())"
      ],
      "execution_count": 18,
      "outputs": []
    },
    {
      "cell_type": "code",
      "metadata": {
        "id": "xqFyFhjYsh3Q",
        "colab_type": "code",
        "colab": {
          "base_uri": "https://localhost:8080/",
          "height": 282
        },
        "outputId": "56b1a640-c562-4b0f-9e5b-4e15d2eedb58"
      },
      "source": [
        "plt.plot(x_test.flatten()[indexes], y_test[indexes], label='Actual')\n",
        "plt.plot(x_test.flatten()[indexes], y_test_pred_linear[indexes], label='Linear Regression')\n",
        "plt.plot(x_test.flatten()[indexes], y_test_pred_ikr[indexes], label='Iterative KNN Implementation')\n",
        "plt.legend(loc='best')\n",
        "plt.plot()"
      ],
      "execution_count": 19,
      "outputs": [
        {
          "output_type": "execute_result",
          "data": {
            "text/plain": [
              "[]"
            ]
          },
          "metadata": {
            "tags": []
          },
          "execution_count": 19
        },
        {
          "output_type": "display_data",
          "data": {
            "image/png": "[encoded data removed]",
            "text/plain": [
              "<Figure size 432x288 with 1 Axes>"
            ]
          },
          "metadata": {
            "tags": [],
            "needs_background": "light"
          }
        }
      ]
    },
    {
      "cell_type": "markdown",
      "metadata": {
        "id": "g0GVtzbLvWDX",
        "colab_type": "text"
      },
      "source": [
        "Well, we can't see any difference from here, even if we zoom in, and I have no clue where, how to see the difference. Here, is a zoomed in pic to x belongs to [-10, 10] "
      ]
    },
    {
      "cell_type": "code",
      "metadata": {
        "id": "nckdGKWmxtX0",
        "colab_type": "code",
        "colab": {
          "base_uri": "https://localhost:8080/",
          "height": 282
        },
        "outputId": "426d9726-d3df-45b0-a045-734419f7704d"
      },
      "source": [
        "plt.plot(x_test.flatten()[indexes], y_test[indexes], label='Actual')\n",
        "plt.plot(x_test.flatten()[indexes], y_test_pred_linear[indexes], label='Linear Regression')\n",
        "plt.plot(x_test.flatten()[indexes], y_test_pred_ikr[indexes], label='Iterative KNN Implementation')\n",
        "plt.legend(loc='best')\n",
        "plt.xlim([-10, 10])\n",
        "plt.plot()"
      ],
      "execution_count": 20,
      "outputs": [
        {
          "output_type": "execute_result",
          "data": {
            "text/plain": [
              "[]"
            ]
          },
          "metadata": {
            "tags": []
          },
          "execution_count": 20
        },
        {
          "output_type": "display_data",
          "data": {
            "image/png": "[encoded data removed]",
            "text/plain": [
              "<Figure size 432x288 with 1 Axes>"
            ]
          },
          "metadata": {
            "tags": [],
            "needs_background": "light"
          }
        }
      ]
    },
    {
      "cell_type": "code",
      "metadata": {
        "id": "8ITnYbT4upsj",
        "colab_type": "code",
        "colab": {
          "base_uri": "https://localhost:8080/",
          "height": 778
        },
        "outputId": "eb14cd70-931f-48f8-82ea-8191a0967e24"
      },
      "source": [
        "plt.plot(x_test.flatten()[indexes], y_test[indexes], label='Actual')\n",
        "plt.legend(loc='best')\n",
        "plt.pause(0.1)\n",
        "plt.plot(x_test.flatten()[indexes], y_test_pred_linear[indexes], label='Linear Regression')\n",
        "plt.legend(loc='best')\n",
        "plt.pause(0.1)\n",
        "plt.plot(x_test.flatten()[indexes], y_test_pred_ikr[indexes], label='Iterative KNN Implementation')\n",
        "plt.legend(loc='best')\n",
        "plt.plot()"
      ],
      "execution_count": 21,
      "outputs": [
        {
          "output_type": "display_data",
          "data": {
            "image/png": "[encoded data removed]",
            "text/plain": [
              "<Figure size 432x288 with 1 Axes>"
            ]
          },
          "metadata": {
            "tags": [],
            "needs_background": "light"
          }
        },
        {
          "output_type": "display_data",
          "data": {
            "image/png": "[encoded data removed]",
            "text/plain": [
              "<Figure size 432x288 with 1 Axes>"
            ]
          },
          "metadata": {
            "tags": [],
            "needs_background": "light"
          }
        },
        {
          "output_type": "execute_result",
          "data": {
            "text/plain": [
              "[]"
            ]
          },
          "metadata": {
            "tags": []
          },
          "execution_count": 21
        },
        {
          "output_type": "display_data",
          "data": {
            "image/png": "[encoded data removed]",
            "text/plain": [
              "<Figure size 432x288 with 1 Axes>"
            ]
          },
          "metadata": {
            "tags": [],
            "needs_background": "light"
          }
        }
      ]
    },
    {
      "cell_type": "markdown",
      "metadata": {
        "id": "R4O9yU397D-P",
        "colab_type": "text"
      },
      "source": [
        "So, we can see that KNN fits better, but we should also understand that this thing will definitely overfit at some point. So, some care must be taken, when evaluating it. But, it gives better results than Linear Regression as of now."
      ]
    },
    {
      "cell_type": "markdown",
      "metadata": {
        "id": "sEW0hN4lx4uK",
        "colab_type": "text"
      },
      "source": [
        "Well, the intersting bit, is that KNN will fit to almost any curve since it depends on neighbours. So, it can be used as a replacement for ANN's etc. I hope this implementation wasn't too stupid. But, yes I just used a simple interpolation concept to force it get closer to the actual value."
      ]
    },
    {
      "cell_type": "code",
      "metadata": {
        "id": "E5fOZsSUvejk",
        "colab_type": "code",
        "colab": {}
      },
      "source": [
        ""
      ],
      "execution_count": 21,
      "outputs": []
    }
  ]
}