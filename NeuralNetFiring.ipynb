{
  "nbformat": 4,
  "nbformat_minor": 0,
  "metadata": {
    "colab": {
      "name": "NeuralNetFiring.ipynb",
      "provenance": [],
      "collapsed_sections": [],
      "authorship_tag": "ABX9TyNKxdA22BfnxnktPgxMViXo",
      "include_colab_link": true
    },
    "kernelspec": {
      "name": "python3",
      "display_name": "Python 3"
    }
  },
  "cells": [
    {
      "cell_type": "markdown",
      "metadata": {
        "id": "view-in-github",
        "colab_type": "text"
      },
      "source": [
        "<a href=\"https://colab.research.google.com/github/AmanPriyanshu/Discussing_Learning/blob/master/NeuralNetFiring.ipynb\" target=\"_parent\"><img src=\"https://colab.research.google.com/assets/colab-badge.svg\" alt=\"Open In Colab\"/></a>"
      ]
    },
    {
      "cell_type": "markdown",
      "metadata": {
        "id": "c7i7RiKzURek",
        "colab_type": "text"
      },
      "source": [
        "## IMPORTING:"
      ]
    },
    {
      "cell_type": "code",
      "metadata": {
        "id": "gOVm4zH6UROP",
        "colab_type": "code",
        "colab": {}
      },
      "source": [
        "import pandas as pd\n",
        "import numpy as np\n",
        "import tensorflow as tf\n",
        "from sklearn.preprocessing import StandardScaler\n",
        "from tensorflow.keras import backend as K\n",
        "from sklearn.preprocessing import MinMaxScaler\n",
        "from matplotlib import pyplot as plt"
      ],
      "execution_count": 1,
      "outputs": []
    },
    {
      "cell_type": "markdown",
      "metadata": {
        "id": "yoTU9O2FUOod",
        "colab_type": "text"
      },
      "source": [
        "## LOADING DATA:"
      ]
    },
    {
      "cell_type": "code",
      "metadata": {
        "id": "qGZOf2e5UNmF",
        "colab_type": "code",
        "colab": {}
      },
      "source": [
        "data = pd.read_csv('heart.csv')\n",
        "features = data.columns\n",
        "data = data.values"
      ],
      "execution_count": 2,
      "outputs": []
    },
    {
      "cell_type": "code",
      "metadata": {
        "id": "mF7ygFCJVCC5",
        "colab_type": "code",
        "colab": {
          "base_uri": "https://localhost:8080/",
          "height": 67
        },
        "outputId": "bc5454b4-b7d8-4cef-da27-21bb98a3751e"
      },
      "source": [
        "print(features)"
      ],
      "execution_count": 3,
      "outputs": [
        {
          "output_type": "stream",
          "text": [
            "Index(['age', 'sex', 'cp', 'trestbps', 'chol', 'fbs', 'restecg', 'thalach',\n",
            "       'exang', 'oldpeak', 'slope', 'ca', 'thal', 'target'],\n",
            "      dtype='object')\n"
          ],
          "name": "stdout"
        }
      ]
    },
    {
      "cell_type": "markdown",
      "metadata": {
        "id": "3GlmYYv8U6jY",
        "colab_type": "text"
      },
      "source": [
        "## X and Y SPLIT:"
      ]
    },
    {
      "cell_type": "code",
      "metadata": {
        "id": "MFf01HZaU6Wi",
        "colab_type": "code",
        "colab": {}
      },
      "source": [
        "x = data.T[:-1]\n",
        "x = x.T\n",
        "y = data.T[-1]"
      ],
      "execution_count": 4,
      "outputs": []
    },
    {
      "cell_type": "markdown",
      "metadata": {
        "id": "0mmYeFP_UxGc",
        "colab_type": "text"
      },
      "source": [
        "## SCALING DATASET:"
      ]
    },
    {
      "cell_type": "code",
      "metadata": {
        "id": "fufgAMR6Utqh",
        "colab_type": "code",
        "colab": {}
      },
      "source": [
        "scaler = StandardScaler()\n",
        "scaler.fit(x)\n",
        "x = scaler.transform(x)"
      ],
      "execution_count": 5,
      "outputs": []
    },
    {
      "cell_type": "markdown",
      "metadata": {
        "id": "leETB9i2a_LP",
        "colab_type": "text"
      },
      "source": [
        "## SHUFFLING:"
      ]
    },
    {
      "cell_type": "code",
      "metadata": {
        "id": "GeRjByeQbAqt",
        "colab_type": "code",
        "colab": {}
      },
      "source": [
        "indexes = np.arange(x.shape[0])\n",
        "np.random.shuffle(indexes)\n",
        "x = x[indexes]\n",
        "y = y[indexes]"
      ],
      "execution_count": 6,
      "outputs": []
    },
    {
      "cell_type": "markdown",
      "metadata": {
        "id": "FwGx2tkjWX27",
        "colab_type": "text"
      },
      "source": [
        "## CREATING A MODEL:"
      ]
    },
    {
      "cell_type": "code",
      "metadata": {
        "id": "aJreRJh8WT5h",
        "colab_type": "code",
        "colab": {
          "base_uri": "https://localhost:8080/",
          "height": 50
        },
        "outputId": "d6d954e5-11e9-48fd-b7ce-072defaa031b"
      },
      "source": [
        "tf.keras.backend.clear_session()\n",
        "model = tf.keras.models.Sequential([\n",
        "                                    tf.keras.layers.Dense(9, activation='sigmoid', input_shape=(x.shape[1],)),\n",
        "                                    tf.keras.layers.Dense(7, activation='sigmoid'),\n",
        "                                    tf.keras.layers.Dense(5, activation='sigmoid'),\n",
        "                                    tf.keras.layers.Dense(1, activation='sigmoid')\n",
        "                                    ])\n",
        "model.compile(optimizer='adam', loss='binary_crossentropy', metrics=['accuracy'])\n",
        "model.fit(x, y, epochs=250, validation_split=0.2, verbose=0)\n",
        "model.evaluate(x, y)"
      ],
      "execution_count": 7,
      "outputs": [
        {
          "output_type": "stream",
          "text": [
            "10/10 [==============================] - 0s 2ms/step - loss: 0.3459 - accuracy: 0.8812\n"
          ],
          "name": "stdout"
        },
        {
          "output_type": "execute_result",
          "data": {
            "text/plain": [
              "[0.34590691328048706, 0.8811880946159363]"
            ]
          },
          "metadata": {
            "tags": []
          },
          "execution_count": 7
        }
      ]
    },
    {
      "cell_type": "markdown",
      "metadata": {
        "id": "y1oKf7W8beck",
        "colab_type": "text"
      },
      "source": [
        "## PULLING OUTPUTS:"
      ]
    },
    {
      "cell_type": "code",
      "metadata": {
        "id": "a8EWgmrbl2Ma",
        "colab_type": "code",
        "colab": {
          "base_uri": "https://localhost:8080/",
          "height": 286
        },
        "outputId": "7888ceb6-028e-4b90-bba9-2bfcfd89a69c"
      },
      "source": [
        "model.summary()"
      ],
      "execution_count": 8,
      "outputs": [
        {
          "output_type": "stream",
          "text": [
            "Model: \"sequential\"\n",
            "_________________________________________________________________\n",
            "Layer (type)                 Output Shape              Param #   \n",
            "=================================================================\n",
            "dense (Dense)                (None, 9)                 126       \n",
            "_________________________________________________________________\n",
            "dense_1 (Dense)              (None, 7)                 70        \n",
            "_________________________________________________________________\n",
            "dense_2 (Dense)              (None, 5)                 40        \n",
            "_________________________________________________________________\n",
            "dense_3 (Dense)              (None, 1)                 6         \n",
            "=================================================================\n",
            "Total params: 242\n",
            "Trainable params: 242\n",
            "Non-trainable params: 0\n",
            "_________________________________________________________________\n"
          ],
          "name": "stdout"
        }
      ]
    },
    {
      "cell_type": "code",
      "metadata": {
        "id": "jYrE8HF1UvB1",
        "colab_type": "code",
        "colab": {}
      },
      "source": [
        "class NNVisualizer:\n",
        "  def __init__(self, X, Y, model, eps=1e-5, max_iter=1e3):\n",
        "    self.eps = eps\n",
        "    self.max_iter = max_iter\n",
        "    self.x = X\n",
        "    self.y = Y\n",
        "    self.model = model\n",
        "    self.x0 = None\n",
        "    self.x1 = None\n",
        "    self.complete_results = None\n",
        "    self.scaler = MinMaxScaler()\n",
        "    self.layer_wise_details = []\n",
        "    self.first = True\n",
        "    self.best_consistency1 = None\n",
        "    self.best_consistency0 = None\n",
        "    self.image_dim = (None, None, None)\n",
        "    self.img0, self.img1 = None, None\n",
        "\n",
        "  def binary_input_classifier(self):\n",
        "    self.x0 = np.array([x_i for x_i, y_i in zip(self.x, self.y) if y_i == 0])\n",
        "    self.x1 = np.array([x_i for x_i, y_i in zip(self.x, self.y) if y_i == 1])\n",
        "  \n",
        "  def extract_layerwise_results(self, x):\n",
        "    output_names = [l.name for l in model.layers]\n",
        "    model.outputs = [l.output for l in model.layers]\n",
        "    model.build(input_shape=(x.shape[1],))\n",
        "    output_values = model(np.array(x))\n",
        "    layer_name_to_output_value = dict(zip(output_names, output_values))\n",
        "\n",
        "    output_per_test = []\n",
        "    for i in range(int(x.shape[0]*1)):\n",
        "      a = []\n",
        "      for key, item in layer_name_to_output_value.items():\n",
        "        a.append(np.array(item[i]))\n",
        "      output_per_test.append(a)\n",
        "    output_per_test = np.array(output_per_test)\n",
        "\n",
        "    complete_results = []\n",
        "\n",
        "    for entry in output_per_test:\n",
        "      entry_wise = []\n",
        "      for layer in entry:\n",
        "        if self.first:\n",
        "          self.layer_wise_details.append(layer.shape[0])\n",
        "        for item in layer:\n",
        "          entry_wise.append(item)\n",
        "      self.first = False\n",
        "      complete_results.append(entry_wise)\n",
        "    self.complete_results = np.array(complete_results)\n",
        "\n",
        "  def dissimilarity_matrix(self, data):\n",
        "    dissimilarity_matrix = np.empty([data.shape[0], data.shape[0]])\n",
        "    for i in range(len(data)):\n",
        "      for j in range(len(data)):\n",
        "        d_ij = np.sum(np.square(data[i]-data[j]))\n",
        "        dissimilarity_matrix[i][j] = d_ij\n",
        "\n",
        "    return dissimilarity_matrix\n",
        "\n",
        "  def get_perplexity(self, D_row, variance):\n",
        "    A_row = np.exp(-D_row * variance)\n",
        "    sumA = sum(A_row)\n",
        "    perplexity = np.log(sumA) + variance * np.sum(D_row * A_row) / sumA\n",
        "    return perplexity, A_row\n",
        "\n",
        "  def affinity_matrix(self, dMatrix, perplexity):\n",
        "    eps = self.eps\n",
        "    (n, _) = dMatrix.shape\n",
        "    variance_matrix = np.ones(dMatrix.shape[0])\n",
        "    affinity_matrix = np.zeros(dMatrix.shape)\n",
        "    logU = np.log(perplexity)\n",
        "    for i in range(dMatrix.shape[0]):\n",
        "      variance_min = -np.inf\n",
        "      variance_max =  np.inf\n",
        "      d_i = dMatrix[i, np.concatenate((np.r_[0:i], np.r_[i+1:n]))]\n",
        "      (c_perplexity, thisA) = self.get_perplexity(d_i, variance_matrix[i])\n",
        "      perplexity_diff = c_perplexity - logU\n",
        "      tries = 0\n",
        "      while (np.isnan(perplexity_diff) or np.abs(perplexity_diff) > eps) and tries < self.max_iter:\n",
        "        if np.isnan(perplexity_diff):\n",
        "          variance_matrix[i] = variance_matrix[i] / 10.0\n",
        "        elif perplexity_diff > 0:\n",
        "          variance_min = variance_matrix[i].copy()\n",
        "          if variance_max == np.inf or variance_max == -np.inf:\n",
        "            variance_matrix[i] = variance_matrix[i] * 2.0\n",
        "          else:\n",
        "            variance_matrix[i] = (variance_matrix[i] + variance_max) / 2.0\n",
        "        else:\n",
        "          variance_max = variance_matrix[i].copy()\n",
        "          if variance_min == np.inf or variance_min == -np.inf:\n",
        "            variance_matrix[i] = variance_matrix[i] / 2.0\n",
        "          else:\n",
        "            variance_matrix[i] = (variance_matrix[i] + variance_min) / 2.0\n",
        "        (c_perplexity, thisA) = self.get_perplexity(d_i, variance_matrix[i])\n",
        "        perplexity_diff = c_perplexity - logU\n",
        "        tries += 1\n",
        "      affinity_matrix[i, np.concatenate((np.r_[0:i], np.r_[i+1:n]))] = thisA\n",
        "    return variance_matrix, affinity_matrix\n",
        "\n",
        "  def binding_matrix(self, aMatrix):\n",
        "    binding_matrix = aMatrix / aMatrix.sum(axis=1)[:,np.newaxis]\n",
        "    return binding_matrix\n",
        "\n",
        "  def outlier_probability(self, bMatrix):\n",
        "    outlier_matrix = np.prod(1-bMatrix, 0)\n",
        "    return outlier_matrix\n",
        "\n",
        "  def sos(self, cleaned_data, perplexity): \n",
        "    dMatrix = self.dissimilarity_matrix(cleaned_data)\n",
        "    var_matrix, aff_matrix = self.affinity_matrix(dMatrix, perplexity)\n",
        "    bin_matrix = self.binding_matrix(aff_matrix)\n",
        "    outlier_matrix = self.outlier_probability(bin_matrix)\n",
        "    return outlier_matrix\n",
        "\n",
        "  def feature_wise(self):\n",
        "    self.binary_input_classifier()\n",
        "    self.extract_layerwise_results(self.x0)\n",
        "    \n",
        "    best_consistency = []\n",
        "    for feature in self.complete_results.T:\n",
        "      feature = feature/np.max(feature)\n",
        "      outs = self.sos(feature, feature.shape[0]*0.7)\n",
        "      best_consistency.append(np.std(outs))\n",
        "    self.best_consistency0 = np.array(best_consistency)\n",
        "\n",
        "    best_consistency = []\n",
        "    self.extract_layerwise_results(self.x1)\n",
        "    for feature in self.complete_results.T:\n",
        "      feature = feature/np.max(feature)\n",
        "      outs = self.sos(feature, feature.shape[0]*0.7)\n",
        "      best_consistency.append(np.std(outs))\n",
        "    self.best_consistency1 = np.array(best_consistency)\n",
        "\n",
        "    self.image_dim =(len(self.layer_wise_details), max(self.layer_wise_details), sum(self.layer_wise_details))\n",
        "    \n",
        "  def image_plotter(self):\n",
        "    self.feature_wise()\n",
        "    self.img0 = np.zeros((self.image_dim[0], self.image_dim[1]))\n",
        "    c = 0\n",
        "\n",
        "    max_bc = max(np.max(self.best_consistency0), np.max(self.best_consistency1))*1.1\n",
        "    self.best_consistency0 = self.best_consistency0/max_bc\n",
        "    self.best_consistency0 = 1 - self.best_consistency0\n",
        "    for layer in range(self.image_dim[0]):\n",
        "      for p in range(self.layer_wise_details[layer]):\n",
        "        self.img0[layer][p+(self.image_dim[1]-self.layer_wise_details[layer])//2] = self.best_consistency0[c]\n",
        "        c += 1\n",
        "\n",
        "    self.img1 = np.zeros((self.image_dim[0], self.image_dim[1]))\n",
        "    self.best_consistency1 = self.best_consistency1/max_bc\n",
        "    self.best_consistency1 = 1 - self.best_consistency1\n",
        "    c = 0\n",
        "    for layer in range(self.image_dim[0]):\n",
        "      for p in range(self.layer_wise_details[layer]):\n",
        "        self.img1[layer][p+(self.image_dim[1]-self.layer_wise_details[layer])//2] = self.best_consistency1[c]\n",
        "        c += 1\n",
        "\n",
        "    fig, ax = plt.subplots()\n",
        "    ax.imshow(self.img0)\n",
        "    for i in range(self.img0.shape[0]):\n",
        "        for j in range(self.img0.shape[1]):\n",
        "            ax.text(j, i, \"{:.2f}\".format(self.img0[i,j]), ha=\"center\", va=\"center\")\n",
        "    ax.title.set_text('Class 0')\n",
        "    plt.pause(0.05)\n",
        "    \n",
        "    fig, ax = plt.subplots()\n",
        "    ax.imshow(self.img1)\n",
        "    for i in range(self.img1.shape[0]):\n",
        "        for j in range(self.img1.shape[1]):\n",
        "            ax.text(j, i, \"{:.2f}\".format(self.img1[i,j]), ha=\"center\", va=\"center\")\n",
        "    ax.title.set_text('Class 1')"
      ],
      "execution_count": 9,
      "outputs": []
    },
    {
      "cell_type": "code",
      "metadata": {
        "id": "tm1n67NZXs-l",
        "colab_type": "code",
        "colab": {
          "base_uri": "https://localhost:8080/",
          "height": 409
        },
        "outputId": "bea5bcc7-5981-4fb7-d9aa-e13f747ea0e7"
      },
      "source": [
        "nnv = NNVisualizer(x, y, model)\n",
        "nnv.image_plotter()"
      ],
      "execution_count": 10,
      "outputs": [
        {
          "output_type": "display_data",
          "data": {
            "image/png": "[encoded data removed]",
            "text/plain": [
              "<Figure size 432x288 with 1 Axes>"
            ]
          },
          "metadata": {
            "tags": [],
            "needs_background": "light"
          }
        },
        {
          "output_type": "display_data",
          "data": {
            "image/png": "[encoded data removed]",
            "text/plain": [
              "<Figure size 432x288 with 1 Axes>"
            ]
          },
          "metadata": {
            "tags": [],
            "needs_background": "light"
          }
        }
      ]
    },
    {
      "cell_type": "code",
      "metadata": {
        "id": "bErQfRnhX0eG",
        "colab_type": "code",
        "colab": {}
      },
      "source": [
        ""
      ],
      "execution_count": 10,
      "outputs": []
    }
  ]
}